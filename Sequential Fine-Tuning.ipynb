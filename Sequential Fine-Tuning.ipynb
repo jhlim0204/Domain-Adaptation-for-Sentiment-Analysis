{
 "cells": [
  {
   "cell_type": "markdown",
   "id": "bbb42b89",
   "metadata": {
    "papermill": {
     "duration": 0.023219,
     "end_time": "2024-11-13T14:59:16.236663",
     "exception": false,
     "start_time": "2024-11-13T14:59:16.213444",
     "status": "completed"
    },
    "tags": []
   },
   "source": [
    "# Domain Adaptation Using Transfer Learning\n",
    "In this notebook, we will guide through each step from training of the source dataset, to the transfer learning of BERT model to the target dataset. All the dataset are from Kaggle, and the notebook is run on Kaggle."
   ]
  },
  {
   "cell_type": "code",
   "execution_count": 1,
   "id": "849fb95f",
   "metadata": {
    "execution": {
     "iopub.execute_input": "2024-11-13T14:59:16.273707Z",
     "iopub.status.busy": "2024-11-13T14:59:16.273255Z",
     "iopub.status.idle": "2024-11-13T14:59:28.996354Z",
     "shell.execute_reply": "2024-11-13T14:59:28.995202Z"
    },
    "papermill": {
     "duration": 12.744607,
     "end_time": "2024-11-13T14:59:28.999067",
     "exception": false,
     "start_time": "2024-11-13T14:59:16.254460",
     "status": "completed"
    },
    "tags": []
   },
   "outputs": [
    {
     "name": "stdout",
     "output_type": "stream",
     "text": [
      "Requirement already satisfied: transformers in /opt/conda/lib/python3.10/site-packages (4.45.1)\r\n",
      "Requirement already satisfied: filelock in /opt/conda/lib/python3.10/site-packages (from transformers) (3.15.1)\r\n",
      "Requirement already satisfied: huggingface-hub<1.0,>=0.23.2 in /opt/conda/lib/python3.10/site-packages (from transformers) (0.25.1)\r\n",
      "Requirement already satisfied: numpy>=1.17 in /opt/conda/lib/python3.10/site-packages (from transformers) (1.26.4)\r\n",
      "Requirement already satisfied: packaging>=20.0 in /opt/conda/lib/python3.10/site-packages (from transformers) (21.3)\r\n",
      "Requirement already satisfied: pyyaml>=5.1 in /opt/conda/lib/python3.10/site-packages (from transformers) (6.0.2)\r\n",
      "Requirement already satisfied: regex!=2019.12.17 in /opt/conda/lib/python3.10/site-packages (from transformers) (2024.5.15)\r\n",
      "Requirement already satisfied: requests in /opt/conda/lib/python3.10/site-packages (from transformers) (2.32.3)\r\n",
      "Requirement already satisfied: safetensors>=0.4.1 in /opt/conda/lib/python3.10/site-packages (from transformers) (0.4.5)\r\n",
      "Requirement already satisfied: tokenizers<0.21,>=0.20 in /opt/conda/lib/python3.10/site-packages (from transformers) (0.20.0)\r\n",
      "Requirement already satisfied: tqdm>=4.27 in /opt/conda/lib/python3.10/site-packages (from transformers) (4.66.4)\r\n",
      "Requirement already satisfied: fsspec>=2023.5.0 in /opt/conda/lib/python3.10/site-packages (from huggingface-hub<1.0,>=0.23.2->transformers) (2024.6.1)\r\n",
      "Requirement already satisfied: typing-extensions>=3.7.4.3 in /opt/conda/lib/python3.10/site-packages (from huggingface-hub<1.0,>=0.23.2->transformers) (4.12.2)\r\n",
      "Requirement already satisfied: pyparsing!=3.0.5,>=2.0.2 in /opt/conda/lib/python3.10/site-packages (from packaging>=20.0->transformers) (3.1.2)\r\n",
      "Requirement already satisfied: charset-normalizer<4,>=2 in /opt/conda/lib/python3.10/site-packages (from requests->transformers) (3.3.2)\r\n",
      "Requirement already satisfied: idna<4,>=2.5 in /opt/conda/lib/python3.10/site-packages (from requests->transformers) (3.7)\r\n",
      "Requirement already satisfied: urllib3<3,>=1.21.1 in /opt/conda/lib/python3.10/site-packages (from requests->transformers) (1.26.18)\r\n",
      "Requirement already satisfied: certifi>=2017.4.17 in /opt/conda/lib/python3.10/site-packages (from requests->transformers) (2024.8.30)\r\n"
     ]
    }
   ],
   "source": [
    "!pip install transformers"
   ]
  },
  {
   "cell_type": "code",
   "execution_count": 2,
   "id": "1333938f",
   "metadata": {
    "_cell_guid": "b1076dfc-b9ad-4769-8c92-a6c4dae69d19",
    "_uuid": "8f2839f25d086af736a60e9eeb907d3b93b6e0e5",
    "execution": {
     "iopub.execute_input": "2024-11-13T14:59:29.035985Z",
     "iopub.status.busy": "2024-11-13T14:59:29.035201Z",
     "iopub.status.idle": "2024-11-13T14:59:36.452042Z",
     "shell.execute_reply": "2024-11-13T14:59:36.451298Z"
    },
    "papermill": {
     "duration": 7.437732,
     "end_time": "2024-11-13T14:59:36.454426",
     "exception": false,
     "start_time": "2024-11-13T14:59:29.016694",
     "status": "completed"
    },
    "tags": []
   },
   "outputs": [],
   "source": [
    "# Import necessary libraries\n",
    "import numpy as np\n",
    "import pandas as pd\n",
    "import seaborn as sns\n",
    "from pylab import rcParams\n",
    "import matplotlib.pyplot as plt\n",
    "from sklearn.model_selection import train_test_split\n",
    "from sklearn.metrics import confusion_matrix, classification_report, f1_score\n",
    "\n",
    "# Torch ML libraries\n",
    "import transformers\n",
    "from transformers import BertModel, BertTokenizer, get_linear_schedule_with_warmup\n",
    "import torch\n",
    "from torch import nn, optim\n",
    "from torch.utils.data import Dataset, DataLoader\n",
    "import torch.nn.functional as F\n",
    "\n",
    "# Misc.\n",
    "import warnings\n",
    "warnings.filterwarnings('ignore')"
   ]
  },
  {
   "cell_type": "code",
   "execution_count": 3,
   "id": "d0c81eee",
   "metadata": {
    "execution": {
     "iopub.execute_input": "2024-11-13T14:59:36.490748Z",
     "iopub.status.busy": "2024-11-13T14:59:36.490293Z",
     "iopub.status.idle": "2024-11-13T14:59:36.501033Z",
     "shell.execute_reply": "2024-11-13T14:59:36.500088Z"
    },
    "papermill": {
     "duration": 0.03089,
     "end_time": "2024-11-13T14:59:36.502947",
     "exception": false,
     "start_time": "2024-11-13T14:59:36.472057",
     "status": "completed"
    },
    "tags": []
   },
   "outputs": [
    {
     "data": {
      "text/plain": [
       "<torch._C.Generator at 0x7a137c4a9d70>"
      ]
     },
     "execution_count": 3,
     "metadata": {},
     "output_type": "execute_result"
    }
   ],
   "source": [
    "# Set RANDOM SEED for reproducibility\n",
    "RANDOM_SEED = 23\n",
    "np.random.seed(RANDOM_SEED)\n",
    "torch.manual_seed(RANDOM_SEED)"
   ]
  },
  {
   "cell_type": "code",
   "execution_count": 4,
   "id": "0126fd4e",
   "metadata": {
    "execution": {
     "iopub.execute_input": "2024-11-13T14:59:36.540146Z",
     "iopub.status.busy": "2024-11-13T14:59:36.539569Z",
     "iopub.status.idle": "2024-11-13T14:59:36.623399Z",
     "shell.execute_reply": "2024-11-13T14:59:36.622555Z"
    },
    "papermill": {
     "duration": 0.10482,
     "end_time": "2024-11-13T14:59:36.625644",
     "exception": false,
     "start_time": "2024-11-13T14:59:36.520824",
     "status": "completed"
    },
    "tags": []
   },
   "outputs": [
    {
     "data": {
      "text/plain": [
       "device(type='cuda', index=0)"
      ]
     },
     "execution_count": 4,
     "metadata": {},
     "output_type": "execute_result"
    }
   ],
   "source": [
    "# Check if GPU is available to speed up training and evaluation process\n",
    "device = torch.device(\"cuda:0\" if torch.cuda.is_available() else \"cpu\")\n",
    "device"
   ]
  },
  {
   "cell_type": "markdown",
   "id": "e0f2b73d",
   "metadata": {
    "papermill": {
     "duration": 0.017191,
     "end_time": "2024-11-13T14:59:36.660718",
     "exception": false,
     "start_time": "2024-11-13T14:59:36.643527",
     "status": "completed"
    },
    "tags": []
   },
   "source": [
    "## Source Dataset: Reddit Dataset"
   ]
  },
  {
   "cell_type": "markdown",
   "id": "f1f84892",
   "metadata": {
    "papermill": {
     "duration": 0.017813,
     "end_time": "2024-11-13T14:59:36.695938",
     "exception": false,
     "start_time": "2024-11-13T14:59:36.678125",
     "status": "completed"
    },
    "tags": []
   },
   "source": [
    "We first explore the source dataset. The dataset chosen is a reddit dataset with around 40000 rows of data."
   ]
  },
  {
   "cell_type": "code",
   "execution_count": 5,
   "id": "87854ea4",
   "metadata": {
    "execution": {
     "iopub.execute_input": "2024-11-13T14:59:36.732952Z",
     "iopub.status.busy": "2024-11-13T14:59:36.732618Z",
     "iopub.status.idle": "2024-11-13T14:59:36.944475Z",
     "shell.execute_reply": "2024-11-13T14:59:36.943533Z"
    },
    "papermill": {
     "duration": 0.23373,
     "end_time": "2024-11-13T14:59:36.947230",
     "exception": false,
     "start_time": "2024-11-13T14:59:36.713500",
     "status": "completed"
    },
    "tags": []
   },
   "outputs": [
    {
     "data": {
      "text/html": [
       "<div>\n",
       "<style scoped>\n",
       "    .dataframe tbody tr th:only-of-type {\n",
       "        vertical-align: middle;\n",
       "    }\n",
       "\n",
       "    .dataframe tbody tr th {\n",
       "        vertical-align: top;\n",
       "    }\n",
       "\n",
       "    .dataframe thead th {\n",
       "        text-align: right;\n",
       "    }\n",
       "</style>\n",
       "<table border=\"1\" class=\"dataframe\">\n",
       "  <thead>\n",
       "    <tr style=\"text-align: right;\">\n",
       "      <th></th>\n",
       "      <th>review</th>\n",
       "      <th>sentiment</th>\n",
       "    </tr>\n",
       "  </thead>\n",
       "  <tbody>\n",
       "    <tr>\n",
       "      <th>0</th>\n",
       "      <td>family mormon have never tried explain them t...</td>\n",
       "      <td>1</td>\n",
       "    </tr>\n",
       "    <tr>\n",
       "      <th>1</th>\n",
       "      <td>buddhism has very much lot compatible with chr...</td>\n",
       "      <td>1</td>\n",
       "    </tr>\n",
       "    <tr>\n",
       "      <th>2</th>\n",
       "      <td>seriously don say thing first all they won get...</td>\n",
       "      <td>-1</td>\n",
       "    </tr>\n",
       "    <tr>\n",
       "      <th>3</th>\n",
       "      <td>what you have learned yours and only yours wha...</td>\n",
       "      <td>0</td>\n",
       "    </tr>\n",
       "    <tr>\n",
       "      <th>4</th>\n",
       "      <td>for your own benefit you may want read living ...</td>\n",
       "      <td>1</td>\n",
       "    </tr>\n",
       "  </tbody>\n",
       "</table>\n",
       "</div>"
      ],
      "text/plain": [
       "                                              review  sentiment\n",
       "0   family mormon have never tried explain them t...          1\n",
       "1  buddhism has very much lot compatible with chr...          1\n",
       "2  seriously don say thing first all they won get...         -1\n",
       "3  what you have learned yours and only yours wha...          0\n",
       "4  for your own benefit you may want read living ...          1"
      ]
     },
     "execution_count": 5,
     "metadata": {},
     "output_type": "execute_result"
    }
   ],
   "source": [
    "reddit_df = pd.read_csv('/kaggle/input/twitter-and-reddit-sentimental-analysis-dataset/Reddit_Data.csv')\n",
    "reddit_df = reddit_df.rename(columns={'clean_comment': 'review','category':'sentiment'})\n",
    "reddit_df.head()"
   ]
  },
  {
   "cell_type": "code",
   "execution_count": 6,
   "id": "fa3d3026",
   "metadata": {
    "execution": {
     "iopub.execute_input": "2024-11-13T14:59:36.984718Z",
     "iopub.status.busy": "2024-11-13T14:59:36.984396Z",
     "iopub.status.idle": "2024-11-13T14:59:36.997769Z",
     "shell.execute_reply": "2024-11-13T14:59:36.996892Z"
    },
    "papermill": {
     "duration": 0.03389,
     "end_time": "2024-11-13T14:59:36.999841",
     "exception": false,
     "start_time": "2024-11-13T14:59:36.965951",
     "status": "completed"
    },
    "tags": []
   },
   "outputs": [
    {
     "data": {
      "text/plain": [
       "sentiment\n",
       " 1    15830\n",
       " 0    13142\n",
       "-1     8277\n",
       "Name: count, dtype: int64"
      ]
     },
     "execution_count": 6,
     "metadata": {},
     "output_type": "execute_result"
    }
   ],
   "source": [
    "reddit_df['sentiment'].value_counts()"
   ]
  },
  {
   "cell_type": "markdown",
   "id": "c97bc8b5",
   "metadata": {
    "papermill": {
     "duration": 0.017496,
     "end_time": "2024-11-13T14:59:37.036321",
     "exception": false,
     "start_time": "2024-11-13T14:59:37.018825",
     "status": "completed"
    },
    "tags": []
   },
   "source": [
    "## Target Dataset: Financial Dataset"
   ]
  },
  {
   "cell_type": "markdown",
   "id": "3fd4b906",
   "metadata": {
    "papermill": {
     "duration": 0.01762,
     "end_time": "2024-11-13T14:59:37.071714",
     "exception": false,
     "start_time": "2024-11-13T14:59:37.054094",
     "status": "completed"
    },
    "tags": []
   },
   "source": [
    "We then explore the target dataset. The financial dataset is a smaller dataset of around 4800 rows. We will also explore the sentiment proportion."
   ]
  },
  {
   "cell_type": "code",
   "execution_count": 7,
   "id": "3c77a2c8",
   "metadata": {
    "execution": {
     "iopub.execute_input": "2024-11-13T14:59:37.108583Z",
     "iopub.status.busy": "2024-11-13T14:59:37.108214Z",
     "iopub.status.idle": "2024-11-13T14:59:37.145427Z",
     "shell.execute_reply": "2024-11-13T14:59:37.144604Z"
    },
    "papermill": {
     "duration": 0.057979,
     "end_time": "2024-11-13T14:59:37.147297",
     "exception": false,
     "start_time": "2024-11-13T14:59:37.089318",
     "status": "completed"
    },
    "tags": []
   },
   "outputs": [
    {
     "data": {
      "text/html": [
       "<div>\n",
       "<style scoped>\n",
       "    .dataframe tbody tr th:only-of-type {\n",
       "        vertical-align: middle;\n",
       "    }\n",
       "\n",
       "    .dataframe tbody tr th {\n",
       "        vertical-align: top;\n",
       "    }\n",
       "\n",
       "    .dataframe thead th {\n",
       "        text-align: right;\n",
       "    }\n",
       "</style>\n",
       "<table border=\"1\" class=\"dataframe\">\n",
       "  <thead>\n",
       "    <tr style=\"text-align: right;\">\n",
       "      <th></th>\n",
       "      <th>sentiment</th>\n",
       "      <th>review</th>\n",
       "    </tr>\n",
       "  </thead>\n",
       "  <tbody>\n",
       "    <tr>\n",
       "      <th>0</th>\n",
       "      <td>neutral</td>\n",
       "      <td>According to Gran , the company has no plans t...</td>\n",
       "    </tr>\n",
       "    <tr>\n",
       "      <th>1</th>\n",
       "      <td>neutral</td>\n",
       "      <td>Technopolis plans to develop in stages an area...</td>\n",
       "    </tr>\n",
       "    <tr>\n",
       "      <th>2</th>\n",
       "      <td>negative</td>\n",
       "      <td>The international electronic industry company ...</td>\n",
       "    </tr>\n",
       "    <tr>\n",
       "      <th>3</th>\n",
       "      <td>positive</td>\n",
       "      <td>With the new production plant the company woul...</td>\n",
       "    </tr>\n",
       "    <tr>\n",
       "      <th>4</th>\n",
       "      <td>positive</td>\n",
       "      <td>According to the company 's updated strategy f...</td>\n",
       "    </tr>\n",
       "  </tbody>\n",
       "</table>\n",
       "</div>"
      ],
      "text/plain": [
       "  sentiment                                             review\n",
       "0   neutral  According to Gran , the company has no plans t...\n",
       "1   neutral  Technopolis plans to develop in stages an area...\n",
       "2  negative  The international electronic industry company ...\n",
       "3  positive  With the new production plant the company woul...\n",
       "4  positive  According to the company 's updated strategy f..."
      ]
     },
     "execution_count": 7,
     "metadata": {},
     "output_type": "execute_result"
    }
   ],
   "source": [
    "financial_df = pd.read_csv(\"/kaggle/input/sentiment-analysis-for-financial-news/all-data.csv\", names = ['sentiment','review'],encoding='ISO-8859-1')\n",
    "financial_df.head()"
   ]
  },
  {
   "cell_type": "code",
   "execution_count": 8,
   "id": "e755df97",
   "metadata": {
    "execution": {
     "iopub.execute_input": "2024-11-13T14:59:37.185330Z",
     "iopub.status.busy": "2024-11-13T14:59:37.185006Z",
     "iopub.status.idle": "2024-11-13T14:59:37.192919Z",
     "shell.execute_reply": "2024-11-13T14:59:37.192073Z"
    },
    "papermill": {
     "duration": 0.028942,
     "end_time": "2024-11-13T14:59:37.194839",
     "exception": false,
     "start_time": "2024-11-13T14:59:37.165897",
     "status": "completed"
    },
    "tags": []
   },
   "outputs": [
    {
     "data": {
      "text/plain": [
       "sentiment\n",
       "neutral     2879\n",
       "positive    1363\n",
       "negative     604\n",
       "Name: count, dtype: int64"
      ]
     },
     "execution_count": 8,
     "metadata": {},
     "output_type": "execute_result"
    }
   ],
   "source": [
    "financial_df['sentiment'].value_counts()"
   ]
  },
  {
   "cell_type": "markdown",
   "id": "53523c2e",
   "metadata": {
    "papermill": {
     "duration": 0.017858,
     "end_time": "2024-11-13T14:59:37.231027",
     "exception": false,
     "start_time": "2024-11-13T14:59:37.213169",
     "status": "completed"
    },
    "tags": []
   },
   "source": [
    "## Data Preprocessing\n",
    "\n",
    "Since the data have different label in their sentiment column, we standardise them by encoding them to Negative: 0, Neutral: 1 and Positive: 2. We drop the rows that has null values on the reviews column."
   ]
  },
  {
   "cell_type": "code",
   "execution_count": 9,
   "id": "d6dab763",
   "metadata": {
    "execution": {
     "iopub.execute_input": "2024-11-13T14:59:37.268825Z",
     "iopub.status.busy": "2024-11-13T14:59:37.268064Z",
     "iopub.status.idle": "2024-11-13T14:59:37.279477Z",
     "shell.execute_reply": "2024-11-13T14:59:37.278510Z"
    },
    "papermill": {
     "duration": 0.032585,
     "end_time": "2024-11-13T14:59:37.281453",
     "exception": false,
     "start_time": "2024-11-13T14:59:37.248868",
     "status": "completed"
    },
    "tags": []
   },
   "outputs": [
    {
     "data": {
      "text/plain": [
       "100"
      ]
     },
     "execution_count": 9,
     "metadata": {},
     "output_type": "execute_result"
    }
   ],
   "source": [
    "null_values = reddit_df['review'].isnull().sum()\n",
    "null_values"
   ]
  },
  {
   "cell_type": "code",
   "execution_count": 10,
   "id": "ce688b68",
   "metadata": {
    "execution": {
     "iopub.execute_input": "2024-11-13T14:59:37.318610Z",
     "iopub.status.busy": "2024-11-13T14:59:37.318289Z",
     "iopub.status.idle": "2024-11-13T14:59:37.339769Z",
     "shell.execute_reply": "2024-11-13T14:59:37.338721Z"
    },
    "papermill": {
     "duration": 0.042367,
     "end_time": "2024-11-13T14:59:37.341766",
     "exception": false,
     "start_time": "2024-11-13T14:59:37.299399",
     "status": "completed"
    },
    "tags": []
   },
   "outputs": [
    {
     "name": "stdout",
     "output_type": "stream",
     "text": [
      "0\n"
     ]
    }
   ],
   "source": [
    "reddit_df = reddit_df.dropna(subset=['review'])\n",
    "null_values = reddit_df['review'].isnull().sum()\n",
    "print(null_values)"
   ]
  },
  {
   "cell_type": "code",
   "execution_count": 11,
   "id": "d70e662d",
   "metadata": {
    "execution": {
     "iopub.execute_input": "2024-11-13T14:59:37.380470Z",
     "iopub.status.busy": "2024-11-13T14:59:37.380026Z",
     "iopub.status.idle": "2024-11-13T14:59:37.386963Z",
     "shell.execute_reply": "2024-11-13T14:59:37.386116Z"
    },
    "papermill": {
     "duration": 0.028771,
     "end_time": "2024-11-13T14:59:37.389033",
     "exception": false,
     "start_time": "2024-11-13T14:59:37.360262",
     "status": "completed"
    },
    "tags": []
   },
   "outputs": [
    {
     "data": {
      "text/plain": [
       "0"
      ]
     },
     "execution_count": 11,
     "metadata": {},
     "output_type": "execute_result"
    }
   ],
   "source": [
    "null_values = financial_df['review'].isnull().sum()\n",
    "null_values"
   ]
  },
  {
   "cell_type": "code",
   "execution_count": 12,
   "id": "8e9a4da9",
   "metadata": {
    "execution": {
     "iopub.execute_input": "2024-11-13T14:59:37.426834Z",
     "iopub.status.busy": "2024-11-13T14:59:37.426550Z",
     "iopub.status.idle": "2024-11-13T14:59:37.440196Z",
     "shell.execute_reply": "2024-11-13T14:59:37.439442Z"
    },
    "papermill": {
     "duration": 0.034896,
     "end_time": "2024-11-13T14:59:37.442052",
     "exception": false,
     "start_time": "2024-11-13T14:59:37.407156",
     "status": "completed"
    },
    "tags": []
   },
   "outputs": [],
   "source": [
    "# Encoding the labels (Negative: 0, Neutral: 1, Positive: 2)\n",
    "reddit_label_mapping = {-1.0: 0, 0.0: 1, 1.0: 2}\n",
    "reddit_df['sentiment_enc'] = reddit_df['sentiment'].map(reddit_label_mapping)\n",
    "reddit_df = reddit_df.dropna(subset=['sentiment_enc'])\n",
    "\n",
    "# Encoding the labels (Negative: 0, Neutral: 1, Positive: 2)\n",
    "financial_label_mapping = {\"negative\": 0, \"neutral\": 1, \"positive\": 2}\n",
    "financial_df['sentiment_enc'] = financial_df['sentiment'].map(financial_label_mapping)"
   ]
  },
  {
   "cell_type": "markdown",
   "id": "5a374501",
   "metadata": {
    "papermill": {
     "duration": 0.017925,
     "end_time": "2024-11-13T14:59:37.478515",
     "exception": false,
     "start_time": "2024-11-13T14:59:37.460590",
     "status": "completed"
    },
    "tags": []
   },
   "source": [
    "## Visualizing Distributions of the Sentiments"
   ]
  },
  {
   "cell_type": "code",
   "execution_count": 13,
   "id": "91eff578",
   "metadata": {
    "execution": {
     "iopub.execute_input": "2024-11-13T14:59:37.516879Z",
     "iopub.status.busy": "2024-11-13T14:59:37.516085Z",
     "iopub.status.idle": "2024-11-13T14:59:37.835553Z",
     "shell.execute_reply": "2024-11-13T14:59:37.834638Z"
    },
    "papermill": {
     "duration": 0.340995,
     "end_time": "2024-11-13T14:59:37.837816",
     "exception": false,
     "start_time": "2024-11-13T14:59:37.496821",
     "status": "completed"
    },
    "tags": []
   },
   "outputs": [
    {
     "data": {
      "image/png": "[encoded data removed]",
      "text/plain": [
       "<Figure size 640x480 with 1 Axes>"
      ]
     },
     "metadata": {},
     "output_type": "display_data"
    }
   ],
   "source": [
    "# Count the number of rows of each sentiment values\n",
    "unique_counts = reddit_df['sentiment'].value_counts()\n",
    "\n",
    "# Create a bar plot\n",
    "plt.bar(unique_counts.index, unique_counts.values)\n",
    "plt.xlabel('Sentiment')\n",
    "plt.ylabel('Count')\n",
    "plt.title('Count of unique values in sentiment (Reddit)')\n",
    "plt.show()"
   ]
  },
  {
   "cell_type": "code",
   "execution_count": 14,
   "id": "9fab32f7",
   "metadata": {
    "execution": {
     "iopub.execute_input": "2024-11-13T14:59:37.877685Z",
     "iopub.status.busy": "2024-11-13T14:59:37.876869Z",
     "iopub.status.idle": "2024-11-13T14:59:38.111425Z",
     "shell.execute_reply": "2024-11-13T14:59:38.110540Z"
    },
    "papermill": {
     "duration": 0.256343,
     "end_time": "2024-11-13T14:59:38.113319",
     "exception": false,
     "start_time": "2024-11-13T14:59:37.856976",
     "status": "completed"
    },
    "tags": []
   },
   "outputs": [
    {
     "data": {
      "image/png": "[encoded data removed]",
      "text/plain": [
       "<Figure size 640x480 with 1 Axes>"
      ]
     },
     "metadata": {},
     "output_type": "display_data"
    }
   ],
   "source": [
    "# Count the number of rows of each sentiment values\n",
    "unique_counts2 = financial_df['sentiment'].value_counts()\n",
    "\n",
    "# Create a bar plot\n",
    "plt.bar(unique_counts2.index, unique_counts2.values)\n",
    "plt.xlabel('Sentiment')\n",
    "plt.ylabel('Count')\n",
    "plt.title('Count of unique values in sentiment (Finance)')\n",
    "plt.show()"
   ]
  },
  {
   "cell_type": "markdown",
   "id": "33fb8a06",
   "metadata": {
    "papermill": {
     "duration": 0.019264,
     "end_time": "2024-11-13T14:59:38.152097",
     "exception": false,
     "start_time": "2024-11-13T14:59:38.132833",
     "status": "completed"
    },
    "tags": []
   },
   "source": [
    "We can see that both distribution having negative sentiment as the least, while the proportion of positive and neutral sentiment is different for both dataset. We then find the proportion of the sentiments in each dataset."
   ]
  },
  {
   "cell_type": "code",
   "execution_count": 15,
   "id": "6aa94bf4",
   "metadata": {
    "execution": {
     "iopub.execute_input": "2024-11-13T14:59:38.192365Z",
     "iopub.status.busy": "2024-11-13T14:59:38.192018Z",
     "iopub.status.idle": "2024-11-13T14:59:38.200327Z",
     "shell.execute_reply": "2024-11-13T14:59:38.199297Z"
    },
    "papermill": {
     "duration": 0.031357,
     "end_time": "2024-11-13T14:59:38.202565",
     "exception": false,
     "start_time": "2024-11-13T14:59:38.171208",
     "status": "completed"
    },
    "tags": []
   },
   "outputs": [
    {
     "data": {
      "text/plain": [
       "sentiment\n",
       " 1    0.426122\n",
       " 0    0.351073\n",
       "-1    0.222805\n",
       "Name: count, dtype: float64"
      ]
     },
     "execution_count": 15,
     "metadata": {},
     "output_type": "execute_result"
    }
   ],
   "source": [
    "# Get weights for each distribution\n",
    "# Reddit dataset (source)\n",
    "dist_proportion1 = unique_counts / unique_counts.sum()\n",
    "dist_proportion1"
   ]
  },
  {
   "cell_type": "code",
   "execution_count": 16,
   "id": "64177a26",
   "metadata": {
    "execution": {
     "iopub.execute_input": "2024-11-13T14:59:38.244015Z",
     "iopub.status.busy": "2024-11-13T14:59:38.243121Z",
     "iopub.status.idle": "2024-11-13T14:59:38.250846Z",
     "shell.execute_reply": "2024-11-13T14:59:38.249981Z"
    },
    "papermill": {
     "duration": 0.029901,
     "end_time": "2024-11-13T14:59:38.252801",
     "exception": false,
     "start_time": "2024-11-13T14:59:38.222900",
     "status": "completed"
    },
    "tags": []
   },
   "outputs": [
    {
     "data": {
      "text/plain": [
       "sentiment\n",
       "neutral     0.594098\n",
       "positive    0.281263\n",
       "negative    0.124639\n",
       "Name: count, dtype: float64"
      ]
     },
     "execution_count": 16,
     "metadata": {},
     "output_type": "execute_result"
    }
   ],
   "source": [
    "# Get weights for each distribution\n",
    "# Financial dataset (target)\n",
    "dist_proportion2 = unique_counts2 / unique_counts2.sum()\n",
    "dist_proportion2"
   ]
  },
  {
   "cell_type": "code",
   "execution_count": 17,
   "id": "c2548e02",
   "metadata": {
    "execution": {
     "iopub.execute_input": "2024-11-13T14:59:38.293091Z",
     "iopub.status.busy": "2024-11-13T14:59:38.292814Z",
     "iopub.status.idle": "2024-11-13T14:59:38.486545Z",
     "shell.execute_reply": "2024-11-13T14:59:38.485541Z"
    },
    "papermill": {
     "duration": 0.216774,
     "end_time": "2024-11-13T14:59:38.488936",
     "exception": false,
     "start_time": "2024-11-13T14:59:38.272162",
     "status": "completed"
    },
    "tags": []
   },
   "outputs": [],
   "source": [
    "# [negative, neutral, positive]\n",
    "weights = [0.13, 0.59, 0.28]\n",
    "class_weights = torch.FloatTensor(weights).to(device)"
   ]
  },
  {
   "cell_type": "code",
   "execution_count": 18,
   "id": "67b03981",
   "metadata": {
    "execution": {
     "iopub.execute_input": "2024-11-13T14:59:38.531097Z",
     "iopub.status.busy": "2024-11-13T14:59:38.530737Z",
     "iopub.status.idle": "2024-11-13T14:59:38.535099Z",
     "shell.execute_reply": "2024-11-13T14:59:38.534205Z"
    },
    "papermill": {
     "duration": 0.028436,
     "end_time": "2024-11-13T14:59:38.537190",
     "exception": false,
     "start_time": "2024-11-13T14:59:38.508754",
     "status": "completed"
    },
    "tags": []
   },
   "outputs": [],
   "source": [
    "reddit_class_label = ['-1.0', '0.0', '1.0']\n",
    "financial_class_label = ['negative', 'neutral', 'positive']"
   ]
  },
  {
   "cell_type": "code",
   "execution_count": 19,
   "id": "f78f746b",
   "metadata": {
    "execution": {
     "iopub.execute_input": "2024-11-13T14:59:38.581038Z",
     "iopub.status.busy": "2024-11-13T14:59:38.580464Z",
     "iopub.status.idle": "2024-11-13T14:59:39.341977Z",
     "shell.execute_reply": "2024-11-13T14:59:39.341031Z"
    },
    "papermill": {
     "duration": 0.786323,
     "end_time": "2024-11-13T14:59:39.344171",
     "exception": false,
     "start_time": "2024-11-13T14:59:38.557848",
     "status": "completed"
    },
    "tags": []
   },
   "outputs": [
    {
     "data": {
      "application/vnd.jupyter.widget-view+json": {
       "model_id": "31562272c6be4a55921053ea8139ea73",
       "version_major": 2,
       "version_minor": 0
      },
      "text/plain": [
       "tokenizer_config.json:   0%|          | 0.00/49.0 [00:00<?, ?B/s]"
      ]
     },
     "metadata": {},
     "output_type": "display_data"
    },
    {
     "data": {
      "application/vnd.jupyter.widget-view+json": {
       "model_id": "e30ea6a27fb34272b9342b2b242cec98",
       "version_major": 2,
       "version_minor": 0
      },
      "text/plain": [
       "vocab.txt:   0%|          | 0.00/213k [00:00<?, ?B/s]"
      ]
     },
     "metadata": {},
     "output_type": "display_data"
    },
    {
     "data": {
      "application/vnd.jupyter.widget-view+json": {
       "model_id": "b53c14687fe04bf19b4a47433c64311b",
       "version_major": 2,
       "version_minor": 0
      },
      "text/plain": [
       "tokenizer.json:   0%|          | 0.00/436k [00:00<?, ?B/s]"
      ]
     },
     "metadata": {},
     "output_type": "display_data"
    },
    {
     "data": {
      "application/vnd.jupyter.widget-view+json": {
       "model_id": "9533d8e4decb43aaa96078e9968d3f94",
       "version_major": 2,
       "version_minor": 0
      },
      "text/plain": [
       "config.json:   0%|          | 0.00/570 [00:00<?, ?B/s]"
      ]
     },
     "metadata": {},
     "output_type": "display_data"
    }
   ],
   "source": [
    "# Pre-trained model from hugging face\n",
    "# We use cased model as upper case and lower case might have different meanings\n",
    "BERT_MODEL_NAME = 'bert-base-cased'\n",
    "\n",
    "# Get tokenizer from the pre-trained model\n",
    "tokenizer = BertTokenizer.from_pretrained(BERT_MODEL_NAME)"
   ]
  },
  {
   "cell_type": "code",
   "execution_count": 20,
   "id": "caecea66",
   "metadata": {
    "execution": {
     "iopub.execute_input": "2024-11-13T14:59:39.387107Z",
     "iopub.status.busy": "2024-11-13T14:59:39.386767Z",
     "iopub.status.idle": "2024-11-13T14:59:39.392701Z",
     "shell.execute_reply": "2024-11-13T14:59:39.391839Z"
    },
    "papermill": {
     "duration": 0.029392,
     "end_time": "2024-11-13T14:59:39.394673",
     "exception": false,
     "start_time": "2024-11-13T14:59:39.365281",
     "status": "completed"
    },
    "tags": []
   },
   "outputs": [
    {
     "name": "stdout",
     "output_type": "stream",
     "text": [
      "[SEP] 102\n",
      "[CLS] 101\n",
      "[PAD] 0\n",
      "[UNK] 100\n"
     ]
    }
   ],
   "source": [
    "# Checking some of the common BERT tokens\n",
    "print(tokenizer.sep_token, tokenizer.sep_token_id) # marker for ending of a sentence\n",
    "print(tokenizer.cls_token, tokenizer.cls_token_id) # start of each sentence, so BERT knows we’re doing classification\n",
    "print(tokenizer.pad_token, tokenizer.pad_token_id) # special token for padding\n",
    "print(tokenizer.unk_token, tokenizer.unk_token_id) # tokens not found in training set "
   ]
  },
  {
   "cell_type": "markdown",
   "id": "aac0843e",
   "metadata": {
    "papermill": {
     "duration": 0.020332,
     "end_time": "2024-11-13T14:59:39.435361",
     "exception": false,
     "start_time": "2024-11-13T14:59:39.415029",
     "status": "completed"
    },
    "tags": []
   },
   "source": [
    "Following that, we count the length of each reviews. Since BERT model only accepts input having max length of 512, we truncate the reviews more than 512 tokens and append to the array for histogram plot later."
   ]
  },
  {
   "cell_type": "code",
   "execution_count": 21,
   "id": "499bf4f3",
   "metadata": {
    "execution": {
     "iopub.execute_input": "2024-11-13T14:59:39.476972Z",
     "iopub.status.busy": "2024-11-13T14:59:39.476626Z",
     "iopub.status.idle": "2024-11-13T15:00:18.378688Z",
     "shell.execute_reply": "2024-11-13T15:00:18.376525Z"
    },
    "papermill": {
     "duration": 38.925933,
     "end_time": "2024-11-13T15:00:18.381499",
     "exception": false,
     "start_time": "2024-11-13T14:59:39.455566",
     "status": "completed"
    },
    "tags": []
   },
   "outputs": [],
   "source": [
    "# Store length of each review \n",
    "reddit_token_lens = []\n",
    "\n",
    "# Iterate through each review and get the length\n",
    "# If the length is more than 512 then we truncate the words to only 512 words\n",
    "# BERT model only accepts maximum word length of 512\n",
    "for txt in reddit_df['review']:\n",
    "    tokens = tokenizer.encode(txt, max_length=512, truncation=True)\n",
    "    reddit_token_lens.append(len(tokens))"
   ]
  },
  {
   "cell_type": "code",
   "execution_count": 22,
   "id": "c7483958",
   "metadata": {
    "execution": {
     "iopub.execute_input": "2024-11-13T15:00:18.430591Z",
     "iopub.status.busy": "2024-11-13T15:00:18.429662Z",
     "iopub.status.idle": "2024-11-13T15:00:19.137121Z",
     "shell.execute_reply": "2024-11-13T15:00:19.136030Z"
    },
    "papermill": {
     "duration": 0.731867,
     "end_time": "2024-11-13T15:00:19.139473",
     "exception": false,
     "start_time": "2024-11-13T15:00:18.407606",
     "status": "completed"
    },
    "tags": []
   },
   "outputs": [
    {
     "data": {
      "text/plain": [
       "Text(0.5, 1.0, 'Number of tokens per review (Reddit)')"
      ]
     },
     "execution_count": 22,
     "metadata": {},
     "output_type": "execute_result"
    },
    {
     "data": {
      "image/png": "[encoded data removed]",
      "text/plain": [
       "<Figure size 640x480 with 1 Axes>"
      ]
     },
     "metadata": {},
     "output_type": "display_data"
    }
   ],
   "source": [
    "# Plot the distribution of review lengths \n",
    "sns.distplot(reddit_token_lens)\n",
    "plt.xlabel('Token count')\n",
    "plt.title('Number of tokens per review (Reddit)')"
   ]
  },
  {
   "cell_type": "code",
   "execution_count": 23,
   "id": "79fc1e33",
   "metadata": {
    "execution": {
     "iopub.execute_input": "2024-11-13T15:00:19.185753Z",
     "iopub.status.busy": "2024-11-13T15:00:19.184864Z",
     "iopub.status.idle": "2024-11-13T15:00:22.981891Z",
     "shell.execute_reply": "2024-11-13T15:00:22.981062Z"
    },
    "papermill": {
     "duration": 3.821963,
     "end_time": "2024-11-13T15:00:22.984317",
     "exception": false,
     "start_time": "2024-11-13T15:00:19.162354",
     "status": "completed"
    },
    "tags": []
   },
   "outputs": [],
   "source": [
    "# Store length of each review \n",
    "financial_token_lens = []\n",
    "\n",
    "# Iterate through each review and get the length\n",
    "# If the length is more than 512 then we truncate the words to only 512 words\n",
    "# BERT model only accepts maximum word length of 512\n",
    "for txt in financial_df['review']:\n",
    "    tokens = tokenizer.encode(txt, max_length=512, truncation=True)\n",
    "    financial_token_lens.append(len(tokens))"
   ]
  },
  {
   "cell_type": "code",
   "execution_count": 24,
   "id": "ea58b7d2",
   "metadata": {
    "execution": {
     "iopub.execute_input": "2024-11-13T15:00:23.027887Z",
     "iopub.status.busy": "2024-11-13T15:00:23.027558Z",
     "iopub.status.idle": "2024-11-13T15:00:23.483822Z",
     "shell.execute_reply": "2024-11-13T15:00:23.482818Z"
    },
    "papermill": {
     "duration": 0.480825,
     "end_time": "2024-11-13T15:00:23.486458",
     "exception": false,
     "start_time": "2024-11-13T15:00:23.005633",
     "status": "completed"
    },
    "tags": []
   },
   "outputs": [
    {
     "data": {
      "text/plain": [
       "Text(0.5, 1.0, 'Number of tokens per review (Financial)')"
      ]
     },
     "execution_count": 24,
     "metadata": {},
     "output_type": "execute_result"
    },
    {
     "data": {
      "image/png": "[encoded data removed]",
      "text/plain": [
       "<Figure size 640x480 with 1 Axes>"
      ]
     },
     "metadata": {},
     "output_type": "display_data"
    }
   ],
   "source": [
    "sns.distplot(financial_token_lens)\n",
    "plt.xlabel('Token count')\n",
    "plt.title('Number of tokens per review (Financial)')"
   ]
  },
  {
   "cell_type": "markdown",
   "id": "2137d278",
   "metadata": {
    "papermill": {
     "duration": 0.022551,
     "end_time": "2024-11-13T15:00:23.531668",
     "exception": false,
     "start_time": "2024-11-13T15:00:23.509117",
     "status": "completed"
    },
    "tags": []
   },
   "source": [
    "Since most data can be covered with max_length of 75, hence we will proceed with MAX_LENGTH = 75."
   ]
  },
  {
   "cell_type": "code",
   "execution_count": 25,
   "id": "46328bca",
   "metadata": {
    "execution": {
     "iopub.execute_input": "2024-11-13T15:00:23.576581Z",
     "iopub.status.busy": "2024-11-13T15:00:23.576192Z",
     "iopub.status.idle": "2024-11-13T15:00:23.580408Z",
     "shell.execute_reply": "2024-11-13T15:00:23.579490Z"
    },
    "papermill": {
     "duration": 0.029046,
     "end_time": "2024-11-13T15:00:23.582457",
     "exception": false,
     "start_time": "2024-11-13T15:00:23.553411",
     "status": "completed"
    },
    "tags": []
   },
   "outputs": [],
   "source": [
    "MAX_LENGTH = 75"
   ]
  },
  {
   "cell_type": "markdown",
   "id": "15db6d04",
   "metadata": {
    "papermill": {
     "duration": 0.021345,
     "end_time": "2024-11-13T15:00:23.625686",
     "exception": false,
     "start_time": "2024-11-13T15:00:23.604341",
     "status": "completed"
    },
    "tags": []
   },
   "source": [
    "## Preparation of Dataset\n",
    "We will split the dataset with 25% test set. This is because financial dataset is smaller therefore allocating a larger proportion of test data in the test set."
   ]
  },
  {
   "cell_type": "code",
   "execution_count": 26,
   "id": "5d11ae52",
   "metadata": {
    "execution": {
     "iopub.execute_input": "2024-11-13T15:00:23.670496Z",
     "iopub.status.busy": "2024-11-13T15:00:23.670168Z",
     "iopub.status.idle": "2024-11-13T15:00:23.684762Z",
     "shell.execute_reply": "2024-11-13T15:00:23.683598Z"
    },
    "papermill": {
     "duration": 0.039377,
     "end_time": "2024-11-13T15:00:23.686678",
     "exception": false,
     "start_time": "2024-11-13T15:00:23.647301",
     "status": "completed"
    },
    "tags": []
   },
   "outputs": [
    {
     "name": "stdout",
     "output_type": "stream",
     "text": [
      "(27861, 3) (9288, 3) (3634, 3) (1212, 3)\n"
     ]
    }
   ],
   "source": [
    "# Random split the dataset into train set and test set\n",
    "# Financial data has higher test ratio due to lesser data\n",
    "reddit_train, reddit_test = train_test_split(reddit_df, test_size=0.25, random_state=RANDOM_SEED)\n",
    "financial_train, financial_test = train_test_split(financial_df, test_size=0.25, random_state=RANDOM_SEED)\n",
    "\n",
    "print(reddit_train.shape, reddit_test.shape, financial_train.shape, financial_test.shape)"
   ]
  },
  {
   "cell_type": "code",
   "execution_count": 27,
   "id": "628ce649",
   "metadata": {
    "execution": {
     "iopub.execute_input": "2024-11-13T15:00:23.731915Z",
     "iopub.status.busy": "2024-11-13T15:00:23.731226Z",
     "iopub.status.idle": "2024-11-13T15:00:23.743834Z",
     "shell.execute_reply": "2024-11-13T15:00:23.742911Z"
    },
    "papermill": {
     "duration": 0.037552,
     "end_time": "2024-11-13T15:00:23.745862",
     "exception": false,
     "start_time": "2024-11-13T15:00:23.708310",
     "status": "completed"
    },
    "tags": []
   },
   "outputs": [],
   "source": [
    "class RedditDataset(Dataset):\n",
    "    # Constructor function \n",
    "    def __init__(self, reviews, targets, tokenizer, max_len):\n",
    "        self.reviews = reviews\n",
    "        self.targets = targets\n",
    "        self.tokenizer = tokenizer\n",
    "        self.max_len = max_len\n",
    "    \n",
    "    # Length magic method\n",
    "    def __len__(self):\n",
    "        return len(self.reviews)\n",
    "    \n",
    "    # Get item magic method\n",
    "    def __getitem__(self, item):\n",
    "        review = str(self.reviews[item])\n",
    "        target = self.targets[item]\n",
    "        \n",
    "        # Encode the review text to the format expected by the model \n",
    "        encoding = self.tokenizer.encode_plus(\n",
    "            review,\n",
    "            add_special_tokens=True,            # Add special tokens like [CLS] and [SEP]\n",
    "            max_length=self.max_len,            # Set the maximum length for padding/truncation\n",
    "            padding='max_length',               # Pad sequences to the max length\n",
    "            return_attention_mask=True,         # Return the attention mask (1 for tokens, 0 for padding)\n",
    "            return_token_type_ids=False,        # Skip token type IDs (not needed for single-sentence tasks)\n",
    "            truncation=True,                    # Truncate longer sequences to max_length\n",
    "            return_tensors='pt'                 # Return PyTorch tensors\n",
    "        )\n",
    "        \n",
    "        return {\n",
    "            'review_text': review,\n",
    "            'input_ids': encoding['input_ids'].flatten(),\n",
    "            'attention_mask': encoding['attention_mask'].flatten(),\n",
    "            'targets': torch.tensor(target, dtype=torch.long)\n",
    "        }\n",
    "    \n",
    "class FinancialDataset(Dataset):\n",
    "    # Constructor Function \n",
    "    def __init__(self, reviews, targets, tokenizer, max_len):\n",
    "        self.reviews = reviews\n",
    "        self.targets = targets\n",
    "        self.tokenizer = tokenizer\n",
    "        self.max_len = max_len\n",
    "    \n",
    "    # Length magic method\n",
    "    def __len__(self):\n",
    "        return len(self.reviews)\n",
    "    \n",
    "    # get item magic method\n",
    "    def __getitem__(self, item):\n",
    "        review = str(self.reviews[item])\n",
    "        target = self.targets[item]\n",
    "        \n",
    "        # Encode the review text to the format expected by the model \n",
    "        encoding = self.tokenizer.encode_plus(\n",
    "            review,\n",
    "            add_special_tokens=True,            # Add special tokens like [CLS] and [SEP]\n",
    "            max_length=self.max_len,            # Set the maximum length for padding/truncation\n",
    "            padding='max_length',               # Pad sequences to the max length\n",
    "            return_attention_mask=True,         # Return the attention mask (1 for tokens, 0 for padding)\n",
    "            return_token_type_ids=False,        # Skip token type IDs (not needed for single-sentence tasks)\n",
    "            truncation=True,                    # Truncate longer sequences to max_length\n",
    "            return_tensors='pt'                 # Return PyTorch tensors\n",
    "        )\n",
    "        \n",
    "        return {\n",
    "            'review_text': review,\n",
    "            'input_ids': encoding['input_ids'].flatten(),\n",
    "            'attention_mask': encoding['attention_mask'].flatten(),\n",
    "            'targets': torch.tensor(target, dtype=torch.long)\n",
    "        }"
   ]
  },
  {
   "cell_type": "code",
   "execution_count": 28,
   "id": "a2be241d",
   "metadata": {
    "execution": {
     "iopub.execute_input": "2024-11-13T15:00:23.790993Z",
     "iopub.status.busy": "2024-11-13T15:00:23.790686Z",
     "iopub.status.idle": "2024-11-13T15:00:23.797834Z",
     "shell.execute_reply": "2024-11-13T15:00:23.796886Z"
    },
    "papermill": {
     "duration": 0.03245,
     "end_time": "2024-11-13T15:00:23.799960",
     "exception": false,
     "start_time": "2024-11-13T15:00:23.767510",
     "status": "completed"
    },
    "tags": []
   },
   "outputs": [],
   "source": [
    "# Prepare data to be loaded to the model\n",
    "def prepare_dataloader(df, tokenizer, max_len, batch_size, dataset = 'reddit', df_type = 'train'):\n",
    "    shuffle = True \n",
    "\n",
    "    if type == 'reddit':\n",
    "        data = RedditDataset(\n",
    "            reviews=df['review'].to_numpy(),\n",
    "            targets=df['sentiment_enc'].to_numpy(),\n",
    "            tokenizer=tokenizer,\n",
    "            max_len=max_len\n",
    "        )\n",
    "    else:\n",
    "        data = FinancialDataset(\n",
    "            reviews=df['review'].to_numpy(),\n",
    "            targets=df['sentiment_enc'].to_numpy(),\n",
    "            tokenizer=tokenizer,\n",
    "            max_len=max_len\n",
    "        )\n",
    "\n",
    "    # Set shuffle=True for train datasets\n",
    "    if df_type == 'train':\n",
    "        shuffle = True\n",
    "    else:\n",
    "        shuffle = False\n",
    "        \n",
    "    return DataLoader(data, batch_size=batch_size,num_workers=0, shuffle=shuffle)"
   ]
  },
  {
   "cell_type": "code",
   "execution_count": 29,
   "id": "0520913a",
   "metadata": {
    "execution": {
     "iopub.execute_input": "2024-11-13T15:00:23.845350Z",
     "iopub.status.busy": "2024-11-13T15:00:23.845048Z",
     "iopub.status.idle": "2024-11-13T15:00:23.850877Z",
     "shell.execute_reply": "2024-11-13T15:00:23.850148Z"
    },
    "papermill": {
     "duration": 0.030287,
     "end_time": "2024-11-13T15:00:23.852795",
     "exception": false,
     "start_time": "2024-11-13T15:00:23.822508",
     "status": "completed"
    },
    "tags": []
   },
   "outputs": [],
   "source": [
    "BATCH_SIZE = 16\n",
    "\n",
    "reddit_train_dataloader = prepare_dataloader(reddit_train, tokenizer, MAX_LENGTH, 128, \"reddit\", 'train')\n",
    "reddit_test_dataloader = prepare_dataloader(reddit_test, tokenizer, MAX_LENGTH, 128, \"reddit\", 'test')\n",
    "\n",
    "financial_train_dataloader = prepare_dataloader(financial_train, tokenizer, MAX_LENGTH, BATCH_SIZE, \"financial\", 'train')\n",
    "financial_test_dataloader = prepare_dataloader(financial_test, tokenizer, MAX_LENGTH, BATCH_SIZE, \"financial\", 'test')"
   ]
  },
  {
   "cell_type": "code",
   "execution_count": 30,
   "id": "b7a51166",
   "metadata": {
    "execution": {
     "iopub.execute_input": "2024-11-13T15:00:23.897393Z",
     "iopub.status.busy": "2024-11-13T15:00:23.897095Z",
     "iopub.status.idle": "2024-11-13T15:00:23.903570Z",
     "shell.execute_reply": "2024-11-13T15:00:23.902765Z"
    },
    "papermill": {
     "duration": 0.031202,
     "end_time": "2024-11-13T15:00:23.905683",
     "exception": false,
     "start_time": "2024-11-13T15:00:23.874481",
     "status": "completed"
    },
    "tags": []
   },
   "outputs": [],
   "source": [
    "# Build the Sentiment Classifier class \n",
    "class SentimentClassifier(nn.Module):\n",
    "    \n",
    "    # Constructor class \n",
    "    def __init__(self, num_classes):\n",
    "        super(SentimentClassifier, self).__init__()\n",
    "        self.bert = BertModel.from_pretrained(BERT_MODEL_NAME)\n",
    "        self.drop = nn.Dropout(p=0.2)\n",
    "        self.out = nn.Linear(self.bert.config.hidden_size, num_classes)\n",
    "    \n",
    "    # Forward propagaion class\n",
    "    def forward(self, input_ids, attention_mask):\n",
    "        outputs = self.bert(input_ids=input_ids, attention_mask=attention_mask)\n",
    "        pooled_output = outputs.pooler_output  # Corrected to use pooler_output\n",
    "        #  Add a dropout layer \n",
    "        output = self.drop(pooled_output)\n",
    "        logits = self.out(output)\n",
    "        return F.softmax(logits, dim=1) # Apply softmax layer to get the probabilities"
   ]
  },
  {
   "cell_type": "code",
   "execution_count": 31,
   "id": "1678d95e",
   "metadata": {
    "execution": {
     "iopub.execute_input": "2024-11-13T15:00:23.951022Z",
     "iopub.status.busy": "2024-11-13T15:00:23.950721Z",
     "iopub.status.idle": "2024-11-13T15:00:23.967982Z",
     "shell.execute_reply": "2024-11-13T15:00:23.967233Z"
    },
    "papermill": {
     "duration": 0.04249,
     "end_time": "2024-11-13T15:00:23.969871",
     "exception": false,
     "start_time": "2024-11-13T15:00:23.927381",
     "status": "completed"
    },
    "tags": []
   },
   "outputs": [],
   "source": [
    "# training function for one epoch\n",
    "def train_model(model, data_loader, loss_fn, optimizer, device, scheduler, n_examples):\n",
    "    losses = []\n",
    "    correct_predictions = 0\n",
    "    \n",
    "    model.train()\n",
    "    \n",
    "    for data in data_loader:\n",
    "        input_ids = data[\"input_ids\"].to(device)\n",
    "        attention_mask = data[\"attention_mask\"].to(device)\n",
    "        targets = data[\"targets\"].to(device)\n",
    "        \n",
    "        # Forward pass\n",
    "        predictions = model(input_ids=input_ids,attention_mask=attention_mask)\n",
    "        \n",
    "        _, preds = torch.max(predictions, dim=1)\n",
    "        loss = loss_fn(predictions, targets)\n",
    "        correct_predictions += torch.sum(preds == targets)\n",
    "        losses.append(loss.detach().item())  # Use detach() to avoid storing computation graph\n",
    "        \n",
    "        # Backward prop\n",
    "        loss.backward()\n",
    "        \n",
    "        # Gradient Descent\n",
    "        nn.utils.clip_grad_norm_(model.parameters(), max_norm=1.0) # avoid exploding and vanishing gradients\n",
    "        optimizer.step()\n",
    "        scheduler.step()\n",
    "        optimizer.zero_grad()\n",
    "    \n",
    "    return correct_predictions.double() / n_examples, torch.mean(torch.tensor(losses)).item()\n",
    "\n",
    "# Evaluate model performance\n",
    "def eval_model(model, data_loader, loss_fn, device, n_examples):\n",
    "    losses = []\n",
    "    correct_predictions = 0\n",
    "\n",
    "    model.eval()\n",
    "    \n",
    "    with torch.no_grad():\n",
    "        for data in data_loader:\n",
    "            input_ids = data[\"input_ids\"].to(device)\n",
    "            attention_mask = data[\"attention_mask\"].to(device)\n",
    "            targets = data[\"targets\"].to(device)\n",
    "\n",
    "            # Forward pass\n",
    "            predictions = model(input_ids=input_ids,attention_mask=attention_mask)\n",
    "\n",
    "            _, preds = torch.max(predictions, dim=1)\n",
    "            loss = loss_fn(predictions, targets)\n",
    "            correct_predictions += torch.sum(preds == targets)\n",
    "            losses.append(loss.detach().item())  # Use detach() to avoid storing computation graph\n",
    "\n",
    "    # Calculate accuracy and average loss\n",
    "    accuracy = correct_predictions.double() / n_examples\n",
    "    avg_loss = torch.mean(torch.tensor(losses)).item()\n",
    "    \n",
    "    return accuracy, avg_loss\n",
    "\n",
    "# Early Stopping class\n",
    "class EarlyStopper:\n",
    "    def __init__(self, patience=3, min_delta=0):\n",
    "        self.patience = patience\n",
    "        self.min_delta = min_delta\n",
    "        self.counter = 0\n",
    "        self.min_validation_loss = np.inf\n",
    "\n",
    "    def early_stop(self, validation_loss):\n",
    "        if validation_loss < self.min_validation_loss:\n",
    "            self.min_validation_loss = validation_loss\n",
    "            self.counter = 0\n",
    "        elif validation_loss > (self.min_validation_loss + self.min_delta):\n",
    "            self.counter += 1\n",
    "            if self.counter >= self.patience:\n",
    "                return True\n",
    "        return False"
   ]
  },
  {
   "cell_type": "markdown",
   "id": "ad8aecfa",
   "metadata": {
    "papermill": {
     "duration": 0.021552,
     "end_time": "2024-11-13T15:00:24.013567",
     "exception": false,
     "start_time": "2024-11-13T15:00:23.992015",
     "status": "completed"
    },
    "tags": []
   },
   "source": [
    "## Baseline Model: Transfer Learning directly on Financial Dataset\n",
    "\n",
    "Using the BERT pre-trained dataset, we first try to adapt directly to the financial dataset. This model serve as the baseline accuracy for our project."
   ]
  },
  {
   "cell_type": "code",
   "execution_count": 32,
   "id": "8ebda7c2",
   "metadata": {
    "execution": {
     "iopub.execute_input": "2024-11-13T15:00:24.057854Z",
     "iopub.status.busy": "2024-11-13T15:00:24.057549Z",
     "iopub.status.idle": "2024-11-13T15:00:26.970412Z",
     "shell.execute_reply": "2024-11-13T15:00:26.969688Z"
    },
    "papermill": {
     "duration": 2.937389,
     "end_time": "2024-11-13T15:00:26.972592",
     "exception": false,
     "start_time": "2024-11-13T15:00:24.035203",
     "status": "completed"
    },
    "tags": []
   },
   "outputs": [
    {
     "data": {
      "application/vnd.jupyter.widget-view+json": {
       "model_id": "50168230ccb44c69a594683ed5a95c02",
       "version_major": 2,
       "version_minor": 0
      },
      "text/plain": [
       "model.safetensors:   0%|          | 0.00/436M [00:00<?, ?B/s]"
      ]
     },
     "metadata": {},
     "output_type": "display_data"
    }
   ],
   "source": [
    "patience = 3\n",
    "MAX_EPOCHS = 50\n",
    "\n",
    "# Initialise the SentimentClassifier model and move the model to GPU\n",
    "model1 = SentimentClassifier(len(financial_class_label))\n",
    "model1 = model1.to(device)\n",
    "\n",
    "# AdamW - Adam weight decay\n",
    "optimizer1 = torch.optim.AdamW(model1.parameters(), lr=2e-5)\n",
    "total_steps = len(financial_train_dataloader) * MAX_EPOCHS\n",
    "\n",
    "# Set up a learning rate scheduler with linear decay from 2e-5 to 0 over the entire training period\n",
    "# num_warmup_steps=0 means the learning rate starts at 2e-5 from the beginning\n",
    "scheduler1 = get_linear_schedule_with_warmup(optimizer1, num_warmup_steps=0, num_training_steps=total_steps)\n",
    "\n",
    "# Define a weighted cross-entropy loss function to handle class imbalance\n",
    "loss_fn1 = nn.CrossEntropyLoss(weight=class_weights).to(device) \n",
    "early_stopper = EarlyStopper(patience=patience)"
   ]
  },
  {
   "cell_type": "code",
   "execution_count": 33,
   "id": "d03b9789",
   "metadata": {
    "execution": {
     "iopub.execute_input": "2024-11-13T15:00:27.019329Z",
     "iopub.status.busy": "2024-11-13T15:00:27.018549Z",
     "iopub.status.idle": "2024-11-13T15:00:27.024421Z",
     "shell.execute_reply": "2024-11-13T15:00:27.023471Z"
    },
    "papermill": {
     "duration": 0.031449,
     "end_time": "2024-11-13T15:00:27.026555",
     "exception": false,
     "start_time": "2024-11-13T15:00:26.995106",
     "status": "completed"
    },
    "tags": []
   },
   "outputs": [],
   "source": [
    "# Freeze first 7 layers for faster model training\n",
    "stop_layer = 'bert.encoder.layer.7.attention.self.query.weight'\n",
    "for name, param in model1.named_parameters():\n",
    "    if stop_layer in name: # stop layer\n",
    "        break\n",
    "    param.requires_grad = False"
   ]
  },
  {
   "cell_type": "code",
   "execution_count": 34,
   "id": "655d972b",
   "metadata": {
    "execution": {
     "iopub.execute_input": "2024-11-13T15:00:27.072055Z",
     "iopub.status.busy": "2024-11-13T15:00:27.071746Z",
     "iopub.status.idle": "2024-11-13T15:09:17.914020Z",
     "shell.execute_reply": "2024-11-13T15:09:17.912928Z"
    },
    "papermill": {
     "duration": 530.893594,
     "end_time": "2024-11-13T15:09:17.942353",
     "exception": false,
     "start_time": "2024-11-13T15:00:27.048759",
     "status": "completed"
    },
    "tags": []
   },
   "outputs": [
    {
     "name": "stdout",
     "output_type": "stream",
     "text": [
      "Epoch [1/50] Train loss 0.7758, Train accuracy 0.6423, Test loss 0.7266, Test accuracy 0.7087\n",
      "Epoch [2/50] Train loss 0.7162, Train accuracy 0.7135, Test loss 0.6868, Test accuracy 0.7426\n",
      "Epoch [3/50] Train loss 0.6967, Train accuracy 0.7378, Test loss 0.6780, Test accuracy 0.7566\n",
      "Epoch [4/50] Train loss 0.6793, Train accuracy 0.7622, Test loss 0.6731, Test accuracy 0.7739\n",
      "Epoch [5/50] Train loss 0.6598, Train accuracy 0.7895, Test loss 0.6660, Test accuracy 0.7855\n",
      "Epoch [6/50] Train loss 0.6547, Train accuracy 0.7977, Test loss 0.6824, Test accuracy 0.7781\n",
      "Epoch [7/50] Train loss 0.6472, Train accuracy 0.8085, Test loss 0.6657, Test accuracy 0.7896\n",
      "Epoch [8/50] Train loss 0.6487, Train accuracy 0.8054, Test loss 0.6736, Test accuracy 0.7805\n",
      "Epoch [9/50] Train loss 0.6407, Train accuracy 0.8129, Test loss 0.6646, Test accuracy 0.7797\n",
      "Epoch [10/50] Train loss 0.6386, Train accuracy 0.8156, Test loss 0.6925, Test accuracy 0.7756\n",
      "Epoch [11/50] Train loss 0.6337, Train accuracy 0.8211, Test loss 0.6620, Test accuracy 0.7871\n",
      "Epoch [12/50] Train loss 0.6378, Train accuracy 0.8200, Test loss 0.6743, Test accuracy 0.7838\n",
      "Epoch [13/50] Train loss 0.6300, Train accuracy 0.8250, Test loss 0.6833, Test accuracy 0.7814\n",
      "Epoch [14/50] Train loss 0.6319, Train accuracy 0.8228, Test loss 0.6767, Test accuracy 0.7855\n",
      "Early stopping triggered.\n",
      "CPU times: user 8min 49s, sys: 642 ms, total: 8min 50s\n",
      "Wall time: 8min 50s\n"
     ]
    }
   ],
   "source": [
    "%%time\n",
    "\n",
    "# Initialize history dictionary for tracking metrics\n",
    "history1 = {\n",
    "    'train_acc': [],\n",
    "    'train_loss': [],\n",
    "    'test_acc': [],\n",
    "    'test_loss': []\n",
    "}\n",
    "\n",
    "for epoch in range(MAX_EPOCHS):\n",
    "    \n",
    "    # Training phase\n",
    "    train_acc, train_loss = train_model(model1, financial_train_dataloader, loss_fn1,\n",
    "                                       optimizer1, device, scheduler1, len(financial_train))\n",
    "\n",
    "    # Evaluation phase\n",
    "    test_acc, test_loss = eval_model(model1, financial_test_dataloader, loss_fn1,\n",
    "                                          device, len(financial_test))\n",
    "    \n",
    "    # Move metrics to CPU for compatibility\n",
    "    train_acc = train_acc.cpu()\n",
    "    test_acc = test_acc.cpu()\n",
    "\n",
    "    # Record metrics in history dictionary\n",
    "    history1['train_acc'].append(train_acc)\n",
    "    history1['train_loss'].append(train_loss)\n",
    "    history1['test_acc'].append(test_acc)\n",
    "    history1['test_loss'].append(test_loss)\n",
    "    \n",
    "    print(f'Epoch [{epoch + 1}/{MAX_EPOCHS}] Train loss {train_loss:.4f}, Train accuracy {train_acc:.4f}, Test loss {test_loss:.4f}, Test accuracy {test_acc:.4f}')\n",
    "    # Early stopping check\n",
    "    if early_stopper.early_stop(test_loss): \n",
    "        print(\"Early stopping triggered.\")\n",
    "        break"
   ]
  },
  {
   "cell_type": "code",
   "execution_count": 35,
   "id": "e0cfcf60",
   "metadata": {
    "execution": {
     "iopub.execute_input": "2024-11-13T15:09:17.995970Z",
     "iopub.status.busy": "2024-11-13T15:09:17.995574Z",
     "iopub.status.idle": "2024-11-13T15:09:18.416047Z",
     "shell.execute_reply": "2024-11-13T15:09:18.414931Z"
    },
    "papermill": {
     "duration": 0.450053,
     "end_time": "2024-11-13T15:09:18.418373",
     "exception": false,
     "start_time": "2024-11-13T15:09:17.968320",
     "status": "completed"
    },
    "tags": []
   },
   "outputs": [
    {
     "data": {
      "image/png": "[encoded data removed]",
      "text/plain": [
       "<Figure size 640x480 with 1 Axes>"
      ]
     },
     "metadata": {},
     "output_type": "display_data"
    }
   ],
   "source": [
    "# Plot training and validation accuracy\n",
    "plt.plot(range(1, len(history1['train_acc'])+1), history1['train_acc'], label='Train Accuracy')\n",
    "plt.plot(range(1, len(history1['test_acc'])+1), history1['test_acc'], label='Test Accuracy')\n",
    "\n",
    "# Set title, x and y labels, legends \n",
    "plt.title('Accuracy across Epoch')\n",
    "plt.ylabel('Accuracy')\n",
    "plt.xlabel('Epoch')\n",
    "plt.legend()\n",
    "plt.grid(True)"
   ]
  },
  {
   "cell_type": "code",
   "execution_count": 36,
   "id": "5b83afb0",
   "metadata": {
    "execution": {
     "iopub.execute_input": "2024-11-13T15:09:18.474927Z",
     "iopub.status.busy": "2024-11-13T15:09:18.474132Z",
     "iopub.status.idle": "2024-11-13T15:09:19.015432Z",
     "shell.execute_reply": "2024-11-13T15:09:19.014376Z"
    },
    "papermill": {
     "duration": 0.572158,
     "end_time": "2024-11-13T15:09:19.017817",
     "exception": false,
     "start_time": "2024-11-13T15:09:18.445659",
     "status": "completed"
    },
    "tags": []
   },
   "outputs": [
    {
     "data": {
      "image/png": "[encoded data removed]",
      "text/plain": [
       "<Figure size 640x480 with 1 Axes>"
      ]
     },
     "metadata": {},
     "output_type": "display_data"
    }
   ],
   "source": [
    "# Plot training and validation loss\n",
    "plt.plot(range(1, len(history1['train_loss'])+1), history1['train_loss'], label='Train Loss')\n",
    "plt.plot(range(1, len(history1['test_loss'])+1), history1['test_loss'], label='Test Loss')\n",
    "\n",
    "# Graph chars\n",
    "plt.title('Loss across Epoch')\n",
    "plt.ylabel('Loss')\n",
    "plt.xlabel('Epoch')\n",
    "plt.legend()\n",
    "plt.grid(True)"
   ]
  },
  {
   "cell_type": "code",
   "execution_count": 37,
   "id": "c6b65c01",
   "metadata": {
    "execution": {
     "iopub.execute_input": "2024-11-13T15:09:19.075346Z",
     "iopub.status.busy": "2024-11-13T15:09:19.074909Z",
     "iopub.status.idle": "2024-11-13T15:09:19.083091Z",
     "shell.execute_reply": "2024-11-13T15:09:19.081803Z"
    },
    "papermill": {
     "duration": 0.039849,
     "end_time": "2024-11-13T15:09:19.085736",
     "exception": false,
     "start_time": "2024-11-13T15:09:19.045887",
     "status": "completed"
    },
    "tags": []
   },
   "outputs": [],
   "source": [
    "# Get the predictions made the model \n",
    "def get_predictions(model, dataloader):\n",
    "    true_targets = []\n",
    "    predicted_labels = []\n",
    "    \n",
    "    model.eval()\n",
    "    \n",
    "    with torch.no_grad():\n",
    "        for d in dataloader:\n",
    "            input_ids = d[\"input_ids\"].to(device)\n",
    "            attention_mask = d[\"attention_mask\"].to(device)\n",
    "            targets = d[\"targets\"].to(device)\n",
    "\n",
    "            predictions = model(input_ids=input_ids, attention_mask=attention_mask)\n",
    "            _, preds = torch.max(predictions, dim=1)\n",
    "\n",
    "            true_targets.extend(targets.cpu().numpy())\n",
    "            predicted_labels.extend(preds.cpu().numpy())\n",
    "    \n",
    "    return true_targets, predicted_labels"
   ]
  },
  {
   "cell_type": "code",
   "execution_count": 38,
   "id": "26c82372",
   "metadata": {
    "execution": {
     "iopub.execute_input": "2024-11-13T15:09:19.142989Z",
     "iopub.status.busy": "2024-11-13T15:09:19.142592Z",
     "iopub.status.idle": "2024-11-13T15:09:25.568976Z",
     "shell.execute_reply": "2024-11-13T15:09:25.567984Z"
    },
    "papermill": {
     "duration": 6.457628,
     "end_time": "2024-11-13T15:09:25.571391",
     "exception": false,
     "start_time": "2024-11-13T15:09:19.113763",
     "status": "completed"
    },
    "tags": []
   },
   "outputs": [
    {
     "name": "stdout",
     "output_type": "stream",
     "text": [
      "F1 Score: 0.5436\n"
     ]
    },
    {
     "data": {
      "image/png": "[encoded data removed]",
      "text/plain": [
       "<Figure size 640x480 with 2 Axes>"
      ]
     },
     "metadata": {},
     "output_type": "display_data"
    }
   ],
   "source": [
    "y_test1, y_pred1 = get_predictions(model1, financial_test_dataloader)\n",
    "\n",
    "# Plot confusion matrix \n",
    "conf_matrix1 = confusion_matrix(y_test1, y_pred1)\n",
    "sns.heatmap(conf_matrix1, annot=True, fmt=\"d\", cmap=\"Blues\")\n",
    "\n",
    "# Calculate the F1 score\n",
    "f1_1 = f1_score(y_test1, y_pred1, average='macro')  # Use 'weighted' for multi-class\n",
    "print(f\"F1 Score: {f1_1:.4f}\")"
   ]
  },
  {
   "cell_type": "markdown",
   "id": "25c2d39b",
   "metadata": {
    "papermill": {
     "duration": 0.027676,
     "end_time": "2024-11-13T15:09:25.627474",
     "exception": false,
     "start_time": "2024-11-13T15:09:25.599798",
     "status": "completed"
    },
    "tags": []
   },
   "source": [
    "## Domain Adaptation Using Source Dataset (Reddit)\n",
    "Following that, we then use the pre-trained model to train on the new dataset. It will learn the features on the source dataset which will be used for sentiment classification for the target dataset later."
   ]
  },
  {
   "cell_type": "code",
   "execution_count": 39,
   "id": "163f3e06",
   "metadata": {
    "execution": {
     "iopub.execute_input": "2024-11-13T15:09:25.684355Z",
     "iopub.status.busy": "2024-11-13T15:09:25.683938Z",
     "iopub.status.idle": "2024-11-13T15:09:26.123121Z",
     "shell.execute_reply": "2024-11-13T15:09:26.122242Z"
    },
    "papermill": {
     "duration": 0.470723,
     "end_time": "2024-11-13T15:09:26.125700",
     "exception": false,
     "start_time": "2024-11-13T15:09:25.654977",
     "status": "completed"
    },
    "tags": []
   },
   "outputs": [],
   "source": [
    "EPOCHS = 20\n",
    "\n",
    "# Initialise the SentimentClassifier model and move the model to GPU\n",
    "model2 = SentimentClassifier(len(reddit_class_label))\n",
    "model2 = model2.to(device)\n",
    "\n",
    "# AdamW - Adam weight decay\n",
    "optimizer2 = torch.optim.AdamW(model2.parameters(), lr=2e-5)\n",
    "total_steps = len(reddit_train_dataloader) * EPOCHS\n",
    "\n",
    "# Set up a learning rate scheduler with linear decay from 2e-5 to 0 over the entire training period\n",
    "# num_warmup_steps=0 means the learning rate starts at 2e-5 from the beginning\n",
    "scheduler2 = get_linear_schedule_with_warmup(optimizer2, num_warmup_steps=0, num_training_steps=total_steps)\n",
    "\n",
    "# Define a weighted cross-entropy loss function to handle class imbalance\n",
    "loss_fn2 = nn.CrossEntropyLoss(weight=class_weights).to(device) "
   ]
  },
  {
   "cell_type": "code",
   "execution_count": 40,
   "id": "ea09c497",
   "metadata": {
    "execution": {
     "iopub.execute_input": "2024-11-13T15:09:26.184654Z",
     "iopub.status.busy": "2024-11-13T15:09:26.183738Z",
     "iopub.status.idle": "2024-11-13T17:21:44.679075Z",
     "shell.execute_reply": "2024-11-13T17:21:44.678022Z"
    },
    "papermill": {
     "duration": 7938.529271,
     "end_time": "2024-11-13T17:21:44.683140",
     "exception": false,
     "start_time": "2024-11-13T15:09:26.153869",
     "status": "completed"
    },
    "tags": []
   },
   "outputs": [
    {
     "name": "stdout",
     "output_type": "stream",
     "text": [
      "Epoch [1/20] Train loss 0.7874, Train accuracy 0.6214, Test loss 0.7048, Test accuracy 0.7078\n",
      "Epoch [2/20] Train loss 0.6873, Train accuracy 0.7245, Test loss 0.6815, Test accuracy 0.7302\n",
      "Epoch [3/20] Train loss 0.6695, Train accuracy 0.7406, Test loss 0.6667, Test accuracy 0.7446\n",
      "Epoch [4/20] Train loss 0.6479, Train accuracy 0.7969, Test loss 0.6388, Test accuracy 0.8567\n",
      "Epoch [5/20] Train loss 0.6252, Train accuracy 0.8624, Test loss 0.6312, Test accuracy 0.8651\n",
      "Epoch [6/20] Train loss 0.6175, Train accuracy 0.8790, Test loss 0.6294, Test accuracy 0.8777\n",
      "Epoch [7/20] Train loss 0.6115, Train accuracy 0.8926, Test loss 0.6240, Test accuracy 0.8733\n",
      "Epoch [8/20] Train loss 0.6073, Train accuracy 0.8990, Test loss 0.6238, Test accuracy 0.8861\n",
      "Epoch [9/20] Train loss 0.6036, Train accuracy 0.9067, Test loss 0.6291, Test accuracy 0.8821\n",
      "Epoch [10/20] Train loss 0.6006, Train accuracy 0.9122, Test loss 0.6259, Test accuracy 0.8939\n",
      "Epoch [11/20] Train loss 0.5994, Train accuracy 0.9157, Test loss 0.6209, Test accuracy 0.8962\n",
      "Epoch [12/20] Train loss 0.5969, Train accuracy 0.9201, Test loss 0.6240, Test accuracy 0.8957\n",
      "Epoch [13/20] Train loss 0.5946, Train accuracy 0.9247, Test loss 0.6283, Test accuracy 0.8973\n",
      "Epoch [14/20] Train loss 0.5938, Train accuracy 0.9269, Test loss 0.6214, Test accuracy 0.9006\n",
      "Epoch [15/20] Train loss 0.5916, Train accuracy 0.9303, Test loss 0.6186, Test accuracy 0.8993\n",
      "Epoch [16/20] Train loss 0.5914, Train accuracy 0.9323, Test loss 0.6218, Test accuracy 0.9002\n",
      "Epoch [17/20] Train loss 0.5894, Train accuracy 0.9350, Test loss 0.6186, Test accuracy 0.9013\n",
      "Epoch [18/20] Train loss 0.5886, Train accuracy 0.9359, Test loss 0.6178, Test accuracy 0.9036\n",
      "Epoch [19/20] Train loss 0.5881, Train accuracy 0.9377, Test loss 0.6190, Test accuracy 0.9032\n",
      "Epoch [20/20] Train loss 0.5873, Train accuracy 0.9393, Test loss 0.6193, Test accuracy 0.9046\n",
      "CPU times: user 2h 12min 4s, sys: 14.3 s, total: 2h 12min 19s\n",
      "Wall time: 2h 12min 18s\n"
     ]
    }
   ],
   "source": [
    "%%time\n",
    "\n",
    "# Initialize history dictionary for tracking metrics\n",
    "history2 = {\n",
    "    'train_acc': [],\n",
    "    'train_loss': [],\n",
    "    'test_acc': [],\n",
    "    'test_loss': []\n",
    "}\n",
    "\n",
    "for epoch in range(EPOCHS):\n",
    "    best_accuracy = 0.0\n",
    "    \n",
    "    # Training phase\n",
    "    train_acc, train_loss = train_model(model2, reddit_train_dataloader, loss_fn2,\n",
    "                                       optimizer2, device, scheduler2, len(reddit_train))\n",
    "    \n",
    "    # Evaluation phase\n",
    "    test_acc, test_loss = eval_model(model2, reddit_test_dataloader, loss_fn2,\n",
    "                                          device, len(reddit_test))\n",
    "    \n",
    "    # Move metrics to CPU for compatibility\n",
    "    train_acc = train_acc.cpu()\n",
    "    test_acc = test_acc.cpu()\n",
    "\n",
    "    # Record metrics in history dictionary\n",
    "    history2['train_acc'].append(train_acc)\n",
    "    history2['train_loss'].append(train_loss)\n",
    "    history2['test_acc'].append(test_acc)\n",
    "    history2['test_loss'].append(test_loss)\n",
    "    \n",
    "    print(f'Epoch [{epoch + 1}/{EPOCHS}] Train loss {train_loss:.4f}, Train accuracy {train_acc:.4f}, Test loss {test_loss:.4f}, Test accuracy {test_acc:.4f}')\n",
    "    \n",
    "    # Save the best performing model\n",
    "    if test_acc > best_accuracy: \n",
    "        torch.save(model2.state_dict(), './best_model_with_source.bin')\n",
    "        best_accuracy = test_acc"
   ]
  },
  {
   "cell_type": "code",
   "execution_count": 41,
   "id": "8d76ab6e",
   "metadata": {
    "execution": {
     "iopub.execute_input": "2024-11-13T17:21:44.741392Z",
     "iopub.status.busy": "2024-11-13T17:21:44.740968Z",
     "iopub.status.idle": "2024-11-13T17:21:45.121338Z",
     "shell.execute_reply": "2024-11-13T17:21:45.120270Z"
    },
    "papermill": {
     "duration": 0.411318,
     "end_time": "2024-11-13T17:21:45.123550",
     "exception": false,
     "start_time": "2024-11-13T17:21:44.712232",
     "status": "completed"
    },
    "tags": []
   },
   "outputs": [
    {
     "data": {
      "image/png": "[encoded data removed]",
      "text/plain": [
       "<Figure size 640x480 with 1 Axes>"
      ]
     },
     "metadata": {},
     "output_type": "display_data"
    }
   ],
   "source": [
    "# Plot training and validation accuracy\n",
    "plt.plot(range(1, len(history2['train_acc'])+1), history2['train_acc'], label='Train Accuracy')\n",
    "plt.plot(range(1, len(history2['test_acc'])+1), history2['test_acc'], label='Test Accuracy')\n",
    "\n",
    "# Graph chars\n",
    "plt.title('Accuracy across Epoch')\n",
    "plt.ylabel('Accuracy')\n",
    "plt.xlabel('Epoch')\n",
    "plt.legend()\n",
    "plt.grid(True)"
   ]
  },
  {
   "cell_type": "code",
   "execution_count": 42,
   "id": "63f406e1",
   "metadata": {
    "execution": {
     "iopub.execute_input": "2024-11-13T17:21:45.180400Z",
     "iopub.status.busy": "2024-11-13T17:21:45.179981Z",
     "iopub.status.idle": "2024-11-13T17:21:45.515349Z",
     "shell.execute_reply": "2024-11-13T17:21:45.514429Z"
    },
    "papermill": {
     "duration": 0.366582,
     "end_time": "2024-11-13T17:21:45.517521",
     "exception": false,
     "start_time": "2024-11-13T17:21:45.150939",
     "status": "completed"
    },
    "tags": []
   },
   "outputs": [
    {
     "data": {
      "image/png": "[encoded data removed]",
      "text/plain": [
       "<Figure size 640x480 with 1 Axes>"
      ]
     },
     "metadata": {},
     "output_type": "display_data"
    }
   ],
   "source": [
    "# Plot training and validation loss\n",
    "plt.plot(range(1, len(history2['train_loss'])+1), history2['train_loss'], label='Train Loss')\n",
    "plt.plot(range(1, len(history2['test_loss'])+1), history2['test_loss'], label='Test Loss')\n",
    "\n",
    "# Graph chars\n",
    "plt.title('Loss across Epoch')\n",
    "plt.ylabel('Loss')\n",
    "plt.xlabel('Epoch')\n",
    "plt.legend()\n",
    "plt.grid(True)"
   ]
  },
  {
   "cell_type": "code",
   "execution_count": 43,
   "id": "90c150c8",
   "metadata": {
    "execution": {
     "iopub.execute_input": "2024-11-13T17:21:45.579071Z",
     "iopub.status.busy": "2024-11-13T17:21:45.578192Z",
     "iopub.status.idle": "2024-11-13T17:22:34.934138Z",
     "shell.execute_reply": "2024-11-13T17:22:34.933202Z"
    },
    "papermill": {
     "duration": 49.419645,
     "end_time": "2024-11-13T17:22:34.966431",
     "exception": false,
     "start_time": "2024-11-13T17:21:45.546786",
     "status": "completed"
    },
    "tags": []
   },
   "outputs": [
    {
     "name": "stdout",
     "output_type": "stream",
     "text": [
      "F1 Score: 0.8923\n"
     ]
    },
    {
     "data": {
      "image/png": "[encoded data removed]",
      "text/plain": [
       "<Figure size 640x480 with 2 Axes>"
      ]
     },
     "metadata": {},
     "output_type": "display_data"
    }
   ],
   "source": [
    "y_test2, y_pred2 = get_predictions(model2, reddit_test_dataloader)\n",
    "\n",
    "# Plot confusion matrix\n",
    "conf_matrix2 = confusion_matrix(y_test2, y_pred2)\n",
    "sns.heatmap(conf_matrix2, annot=True, fmt=\"d\", cmap=\"Blues\")\n",
    "\n",
    "# Calculate the F1 score\n",
    "f1_2 = f1_score(y_test2, y_pred2, average='macro')\n",
    "print(f\"F1 Score: {f1_2:.4f}\")"
   ]
  },
  {
   "cell_type": "markdown",
   "id": "c13ab789",
   "metadata": {
    "papermill": {
     "duration": 0.029608,
     "end_time": "2024-11-13T17:22:35.025753",
     "exception": false,
     "start_time": "2024-11-13T17:22:34.996145",
     "status": "completed"
    },
    "tags": []
   },
   "source": [
    "## Finetuning and Adapt to Financial Dataset"
   ]
  },
  {
   "cell_type": "markdown",
   "id": "d3bc8c77",
   "metadata": {
    "papermill": {
     "duration": 0.031292,
     "end_time": "2024-11-13T17:22:35.087910",
     "exception": false,
     "start_time": "2024-11-13T17:22:35.056618",
     "status": "completed"
    },
    "tags": []
   },
   "source": [
    "Using the trained model from reddit dataset, we will then transfer the learnings by the model to adapt to the financial domain. We will first load the best model from the source, followed by finetuning the model using target dataset. "
   ]
  },
  {
   "cell_type": "code",
   "execution_count": 44,
   "id": "0bfefdc2",
   "metadata": {
    "execution": {
     "iopub.execute_input": "2024-11-13T17:22:35.152034Z",
     "iopub.status.busy": "2024-11-13T17:22:35.151138Z",
     "iopub.status.idle": "2024-11-13T17:22:36.255138Z",
     "shell.execute_reply": "2024-11-13T17:22:36.254125Z"
    },
    "papermill": {
     "duration": 1.137768,
     "end_time": "2024-11-13T17:22:36.257538",
     "exception": false,
     "start_time": "2024-11-13T17:22:35.119770",
     "status": "completed"
    },
    "tags": []
   },
   "outputs": [
    {
     "name": "stdout",
     "output_type": "stream",
     "text": [
      "Loaded Model 2 successfully!\n"
     ]
    },
    {
     "data": {
      "text/plain": [
       "SentimentClassifier(\n",
       "  (bert): BertModel(\n",
       "    (embeddings): BertEmbeddings(\n",
       "      (word_embeddings): Embedding(28996, 768, padding_idx=0)\n",
       "      (position_embeddings): Embedding(512, 768)\n",
       "      (token_type_embeddings): Embedding(2, 768)\n",
       "      (LayerNorm): LayerNorm((768,), eps=1e-12, elementwise_affine=True)\n",
       "      (dropout): Dropout(p=0.1, inplace=False)\n",
       "    )\n",
       "    (encoder): BertEncoder(\n",
       "      (layer): ModuleList(\n",
       "        (0-11): 12 x BertLayer(\n",
       "          (attention): BertAttention(\n",
       "            (self): BertSdpaSelfAttention(\n",
       "              (query): Linear(in_features=768, out_features=768, bias=True)\n",
       "              (key): Linear(in_features=768, out_features=768, bias=True)\n",
       "              (value): Linear(in_features=768, out_features=768, bias=True)\n",
       "              (dropout): Dropout(p=0.1, inplace=False)\n",
       "            )\n",
       "            (output): BertSelfOutput(\n",
       "              (dense): Linear(in_features=768, out_features=768, bias=True)\n",
       "              (LayerNorm): LayerNorm((768,), eps=1e-12, elementwise_affine=True)\n",
       "              (dropout): Dropout(p=0.1, inplace=False)\n",
       "            )\n",
       "          )\n",
       "          (intermediate): BertIntermediate(\n",
       "            (dense): Linear(in_features=768, out_features=3072, bias=True)\n",
       "            (intermediate_act_fn): GELUActivation()\n",
       "          )\n",
       "          (output): BertOutput(\n",
       "            (dense): Linear(in_features=3072, out_features=768, bias=True)\n",
       "            (LayerNorm): LayerNorm((768,), eps=1e-12, elementwise_affine=True)\n",
       "            (dropout): Dropout(p=0.1, inplace=False)\n",
       "          )\n",
       "        )\n",
       "      )\n",
       "    )\n",
       "    (pooler): BertPooler(\n",
       "      (dense): Linear(in_features=768, out_features=768, bias=True)\n",
       "      (activation): Tanh()\n",
       "    )\n",
       "  )\n",
       "  (drop): Dropout(p=0.2, inplace=False)\n",
       "  (out): Linear(in_features=768, out_features=3, bias=True)\n",
       ")"
      ]
     },
     "execution_count": 44,
     "metadata": {},
     "output_type": "execute_result"
    }
   ],
   "source": [
    "model3 = SentimentClassifier(len(financial_class_label))\n",
    "model3.load_state_dict(torch.load('/kaggle/working/best_model_with_source.bin')) # Load the best model from the source\n",
    "device = torch.device(\"cuda\" if torch.cuda.is_available() else \"cpu\")\n",
    "model3 = model3.to(device) # Ensure the model is trained in GPU\n",
    "print('Loaded Model 2 successfully!')\n",
    "model3.eval()"
   ]
  },
  {
   "cell_type": "markdown",
   "id": "90b14e6f",
   "metadata": {
    "papermill": {
     "duration": 0.030335,
     "end_time": "2024-11-13T17:22:36.318971",
     "exception": false,
     "start_time": "2024-11-13T17:22:36.288636",
     "status": "completed"
    },
    "tags": []
   },
   "source": [
    "To retain the trainings and features from the source, we will freeze the first 8 layers of BERT model. Freezing the layers will also help to speed up the model finetuning and training process."
   ]
  },
  {
   "cell_type": "code",
   "execution_count": 45,
   "id": "d9411890",
   "metadata": {
    "execution": {
     "iopub.execute_input": "2024-11-13T17:22:36.379541Z",
     "iopub.status.busy": "2024-11-13T17:22:36.379134Z",
     "iopub.status.idle": "2024-11-13T17:22:36.385895Z",
     "shell.execute_reply": "2024-11-13T17:22:36.384897Z"
    },
    "papermill": {
     "duration": 0.040161,
     "end_time": "2024-11-13T17:22:36.388199",
     "exception": false,
     "start_time": "2024-11-13T17:22:36.348038",
     "status": "completed"
    },
    "tags": []
   },
   "outputs": [
    {
     "name": "stdout",
     "output_type": "stream",
     "text": [
      "Stop layer found!\n"
     ]
    }
   ],
   "source": [
    "# Freeze the first 7 layer to speed up model training\n",
    "stop_layer = 'bert.encoder.layer.7.attention.self.query.weight'\n",
    "for name, param in model3.named_parameters():\n",
    "    if stop_layer in name: # stop layer\n",
    "        print(\"Stop layer found!\")\n",
    "        break\n",
    "    param.requires_grad = False"
   ]
  },
  {
   "cell_type": "markdown",
   "id": "19797229",
   "metadata": {
    "papermill": {
     "duration": 0.029462,
     "end_time": "2024-11-13T17:22:36.447084",
     "exception": false,
     "start_time": "2024-11-13T17:22:36.417622",
     "status": "completed"
    },
    "tags": []
   },
   "source": [
    "We then set the loss function and optimizer for the model. In consistency with the source model, we will be using back the same parameters from the source model."
   ]
  },
  {
   "cell_type": "code",
   "execution_count": 46,
   "id": "eaae1456",
   "metadata": {
    "execution": {
     "iopub.execute_input": "2024-11-13T17:22:36.507284Z",
     "iopub.status.busy": "2024-11-13T17:22:36.506935Z",
     "iopub.status.idle": "2024-11-13T17:22:36.515976Z",
     "shell.execute_reply": "2024-11-13T17:22:36.515137Z"
    },
    "papermill": {
     "duration": 0.041878,
     "end_time": "2024-11-13T17:22:36.517952",
     "exception": false,
     "start_time": "2024-11-13T17:22:36.476074",
     "status": "completed"
    },
    "tags": []
   },
   "outputs": [],
   "source": [
    "EPOCHS = 50\n",
    "patience = 5\n",
    "\n",
    "# Using back the same optimizer. loss function and scheduler from model 2 and adapt to target model\n",
    "# AdamW - Adam weight decay\n",
    "optimizer2 = torch.optim.AdamW(model3.parameters(), lr=2e-5)\n",
    "total_steps = len(financial_train_dataloader) * EPOCHS\n",
    "\n",
    "# creates a schedule with learning rate that decreasesly linearly from lr=2e-5 to 0\n",
    "# warmup is the period during which it increases linearly from 0 to lr=2e-5, here we set warmup = 0\n",
    "scheduler2 = get_linear_schedule_with_warmup(optimizer2, num_warmup_steps=0, num_training_steps=total_steps)\n",
    "\n",
    "# weighted cross entropy loss\n",
    "loss_fn2 = nn.CrossEntropyLoss(weight=class_weights).to(device) \n",
    "early_stopper = EarlyStopper(patience=patience)"
   ]
  },
  {
   "cell_type": "code",
   "execution_count": 47,
   "id": "e148c607",
   "metadata": {
    "execution": {
     "iopub.execute_input": "2024-11-13T17:22:36.578949Z",
     "iopub.status.busy": "2024-11-13T17:22:36.578402Z",
     "iopub.status.idle": "2024-11-13T17:29:38.199166Z",
     "shell.execute_reply": "2024-11-13T17:29:38.198222Z"
    },
    "papermill": {
     "duration": 421.685539,
     "end_time": "2024-11-13T17:29:38.232960",
     "exception": false,
     "start_time": "2024-11-13T17:22:36.547421",
     "status": "completed"
    },
    "tags": []
   },
   "outputs": [
    {
     "name": "stdout",
     "output_type": "stream",
     "text": [
      "Epoch [1/50] Train loss 0.7633, Train accuracy 0.6857, Test loss 0.7114, Test accuracy 0.7995\n",
      "Epoch [2/50] Train loss 0.6890, Train accuracy 0.7862, Test loss 0.6768, Test accuracy 0.8152\n",
      "Epoch [3/50] Train loss 0.6664, Train accuracy 0.8178, Test loss 0.7124, Test accuracy 0.8094\n",
      "Epoch [4/50] Train loss 0.6541, Train accuracy 0.8459, Test loss 0.6821, Test accuracy 0.8350\n",
      "Epoch [5/50] Train loss 0.6395, Train accuracy 0.8668, Test loss 0.6720, Test accuracy 0.8424\n",
      "Epoch [6/50] Train loss 0.6313, Train accuracy 0.8819, Test loss 0.6704, Test accuracy 0.8358\n",
      "Epoch [7/50] Train loss 0.6263, Train accuracy 0.8919, Test loss 0.6882, Test accuracy 0.8457\n",
      "Epoch [8/50] Train loss 0.6211, Train accuracy 0.9040, Test loss 0.6880, Test accuracy 0.8457\n",
      "Epoch [9/50] Train loss 0.6147, Train accuracy 0.9059, Test loss 0.6915, Test accuracy 0.8399\n",
      "Epoch [10/50] Train loss 0.6128, Train accuracy 0.9130, Test loss 0.6729, Test accuracy 0.8424\n",
      "Epoch [11/50] Train loss 0.6058, Train accuracy 0.9196, Test loss 0.6718, Test accuracy 0.8573\n",
      "Early stopping triggered.\n",
      "CPU times: user 7min 1s, sys: 323 ms, total: 7min 1s\n",
      "Wall time: 7min 1s\n"
     ]
    }
   ],
   "source": [
    "%%time\n",
    "\n",
    "np.random.seed(RANDOM_SEED)\n",
    "torch.manual_seed(RANDOM_SEED)\n",
    "\n",
    "# Initialize history dictionary for tracking metrics\n",
    "history3 = {\n",
    "    'train_acc': [],\n",
    "    'train_loss': [],\n",
    "    'test_acc': [],\n",
    "    'test_loss': []\n",
    "}\n",
    "\n",
    "for epoch in range(EPOCHS):\n",
    "    \n",
    "    # Train model using the optimizers, loss function and scheduler from the source model\n",
    "    train_acc, train_loss = train_model(model3, financial_train_dataloader, loss_fn2,\n",
    "                                       optimizer2, device, scheduler2, len(financial_train))\n",
    "\n",
    "    # Evaluation phase\n",
    "    test_acc, test_loss = eval_model(model3, financial_test_dataloader, loss_fn2,\n",
    "                                          device, len(financial_test))\n",
    "    \n",
    "    # Move metrics to CPU for compatibility\n",
    "    train_acc = train_acc.cpu()\n",
    "    test_acc = test_acc.cpu()\n",
    "\n",
    "    # Record metrics in history dictionary\n",
    "    history3['train_acc'].append(train_acc)\n",
    "    history3['train_loss'].append(train_loss)\n",
    "    history3['test_acc'].append(test_acc)\n",
    "    history3['test_loss'].append(test_loss)\n",
    "    \n",
    "    print(f'Epoch [{epoch + 1}/{EPOCHS}] Train loss {train_loss:.4f}, Train accuracy {train_acc:.4f}, Test loss {test_loss:.4f}, Test accuracy {test_acc:.4f}')\n",
    "    # Early stopping check\n",
    "    if early_stopper.early_stop(test_loss): \n",
    "        print(\"Early stopping triggered.\")\n",
    "        break"
   ]
  },
  {
   "cell_type": "code",
   "execution_count": 48,
   "id": "fe218823",
   "metadata": {
    "execution": {
     "iopub.execute_input": "2024-11-13T17:29:38.295325Z",
     "iopub.status.busy": "2024-11-13T17:29:38.294975Z",
     "iopub.status.idle": "2024-11-13T17:29:38.635307Z",
     "shell.execute_reply": "2024-11-13T17:29:38.634160Z"
    },
    "papermill": {
     "duration": 0.373703,
     "end_time": "2024-11-13T17:29:38.637580",
     "exception": false,
     "start_time": "2024-11-13T17:29:38.263877",
     "status": "completed"
    },
    "tags": []
   },
   "outputs": [
    {
     "data": {
      "image/png": "[encoded data removed]",
      "text/plain": [
       "<Figure size 640x480 with 1 Axes>"
      ]
     },
     "metadata": {},
     "output_type": "display_data"
    }
   ],
   "source": [
    "# Plot training and validation accuracy\n",
    "plt.plot(range(1, len(history3['train_acc'])+1), history3['train_acc'], label='Train Accuracy')\n",
    "plt.plot(range(1, len(history3['test_acc'])+1), history3['test_acc'], label='Test Accuracy')\n",
    "\n",
    "# Graph chars\n",
    "plt.title('Accuracy across Epoch')\n",
    "plt.ylabel('Accuracy')\n",
    "plt.xlabel('Epoch')\n",
    "plt.legend()\n",
    "plt.grid(True)"
   ]
  },
  {
   "cell_type": "code",
   "execution_count": 49,
   "id": "af47054f",
   "metadata": {
    "execution": {
     "iopub.execute_input": "2024-11-13T17:29:38.702117Z",
     "iopub.status.busy": "2024-11-13T17:29:38.701741Z",
     "iopub.status.idle": "2024-11-13T17:29:39.071964Z",
     "shell.execute_reply": "2024-11-13T17:29:39.071020Z"
    },
    "papermill": {
     "duration": 0.404789,
     "end_time": "2024-11-13T17:29:39.074166",
     "exception": false,
     "start_time": "2024-11-13T17:29:38.669377",
     "status": "completed"
    },
    "tags": []
   },
   "outputs": [
    {
     "data": {
      "image/png": "[encoded data removed]",
      "text/plain": [
       "<Figure size 640x480 with 1 Axes>"
      ]
     },
     "metadata": {},
     "output_type": "display_data"
    }
   ],
   "source": [
    "# Plot training and validation loss\n",
    "plt.plot(range(1, len(history3['train_loss'])+1), history3['train_loss'], label='Train Loss')\n",
    "plt.plot(range(1, len(history3['test_loss'])+1), history3['test_loss'], label='Test Loss')\n",
    "\n",
    "# Graph chars\n",
    "plt.title('Loss across Epoch')\n",
    "plt.ylabel('Loss')\n",
    "plt.xlabel('Epoch')\n",
    "plt.legend()\n",
    "plt.grid(True)"
   ]
  },
  {
   "cell_type": "code",
   "execution_count": 50,
   "id": "a059b64f",
   "metadata": {
    "execution": {
     "iopub.execute_input": "2024-11-13T17:29:39.140487Z",
     "iopub.status.busy": "2024-11-13T17:29:39.140073Z",
     "iopub.status.idle": "2024-11-13T17:29:45.528690Z",
     "shell.execute_reply": "2024-11-13T17:29:45.527715Z"
    },
    "papermill": {
     "duration": 6.424749,
     "end_time": "2024-11-13T17:29:45.530623",
     "exception": false,
     "start_time": "2024-11-13T17:29:39.105874",
     "status": "completed"
    },
    "tags": []
   },
   "outputs": [
    {
     "name": "stdout",
     "output_type": "stream",
     "text": [
      "F1 Score: 0.8411\n"
     ]
    },
    {
     "data": {
      "image/png": "[encoded data removed]",
      "text/plain": [
       "<Figure size 640x480 with 2 Axes>"
      ]
     },
     "metadata": {},
     "output_type": "display_data"
    }
   ],
   "source": [
    "y_test3, y_pred3 = get_predictions(model3, financial_test_dataloader)\n",
    "conf_matrix3 = confusion_matrix(y_test3, y_pred3)\n",
    "sns.heatmap(conf_matrix3, annot=True, fmt=\"d\", cmap=\"Blues\")\n",
    "\n",
    "# Calculate the F1 score\n",
    "f1_3 = f1_score(y_test3, y_pred3, average='macro')  # Use 'weighted' for multi-class\n",
    "print(f\"F1 Score: {f1_3:.4f}\")"
   ]
  },
  {
   "cell_type": "markdown",
   "id": "5433bdda",
   "metadata": {
    "papermill": {
     "duration": 0.031234,
     "end_time": "2024-11-13T17:29:45.595780",
     "exception": false,
     "start_time": "2024-11-13T17:29:45.564546",
     "status": "completed"
    },
    "tags": []
   },
   "source": [
    "## Comparison of Source and Target"
   ]
  },
  {
   "cell_type": "code",
   "execution_count": 51,
   "id": "dea7dbc5",
   "metadata": {
    "execution": {
     "iopub.execute_input": "2024-11-13T17:29:45.662878Z",
     "iopub.status.busy": "2024-11-13T17:29:45.662474Z",
     "iopub.status.idle": "2024-11-13T17:29:45.999259Z",
     "shell.execute_reply": "2024-11-13T17:29:45.998290Z"
    },
    "papermill": {
     "duration": 0.373247,
     "end_time": "2024-11-13T17:29:46.001636",
     "exception": false,
     "start_time": "2024-11-13T17:29:45.628389",
     "status": "completed"
    },
    "tags": []
   },
   "outputs": [
    {
     "data": {
      "image/png": "[encoded data removed]",
      "text/plain": [
       "<Figure size 640x480 with 1 Axes>"
      ]
     },
     "metadata": {},
     "output_type": "display_data"
    }
   ],
   "source": [
    "# Plot training and validation accuracy\n",
    "plt.plot(range(1, len(history2['test_acc'])+1), history2['test_acc'], label='Source Test Accuracy')\n",
    "plt.plot(range(1, len(history3['test_acc'])+1), history3['test_acc'], label='Target Test Accuracy')\n",
    "\n",
    "# Graph chars\n",
    "plt.title('Accuracy across Epoch')\n",
    "plt.ylabel('Accuracy')\n",
    "plt.xlabel('Epoch')\n",
    "plt.legend()\n",
    "plt.grid(True)"
   ]
  },
  {
   "cell_type": "code",
   "execution_count": null,
   "id": "6625597d",
   "metadata": {
    "papermill": {
     "duration": 0.033484,
     "end_time": "2024-11-13T17:29:46.068818",
     "exception": false,
     "start_time": "2024-11-13T17:29:46.035334",
     "status": "completed"
    },
    "tags": []
   },
   "outputs": [],
   "source": []
  }
 ],
 "metadata": {
  "kaggle": {
   "accelerator": "nvidiaTeslaT4",
   "dataSources": [
    {
     "datasetId": 429085,
     "sourceId": 815876,
     "sourceType": "datasetVersion"
    },
    {
     "datasetId": 622510,
     "sourceId": 1192499,
     "sourceType": "datasetVersion"
    },
    {
     "datasetId": 1520310,
     "sourceId": 2510329,
     "sourceType": "datasetVersion"
    },
    {
     "datasetId": 1918992,
     "sourceId": 3205803,
     "sourceType": "datasetVersion"
    },
    {
     "modelId": 159214,
     "modelInstanceId": 136486,
     "sourceId": 160512,
     "sourceType": "modelInstanceVersion"
    }
   ],
   "dockerImageVersionId": 30787,
   "isGpuEnabled": true,
   "isInternetEnabled": true,
   "language": "python",
   "sourceType": "notebook"
  },
  "kernelspec": {
   "display_name": "Python 3",
   "language": "python",
   "name": "python3"
  },
  "language_info": {
   "codemirror_mode": {
    "name": "ipython",
    "version": 3
   },
   "file_extension": ".py",
   "mimetype": "text/x-python",
   "name": "python",
   "nbconvert_exporter": "python",
   "pygments_lexer": "ipython3",
   "version": "3.10.14"
  },
  "papermill": {
   "default_parameters": {},
   "duration": 9034.184605,
   "end_time": "2024-11-13T17:29:47.726782",
   "environment_variables": {},
   "exception": null,
   "input_path": "__notebook__.ipynb",
   "output_path": "__notebook__.ipynb",
   "parameters": {},
   "start_time": "2024-11-13T14:59:13.542177",
   "version": "2.6.0"
  },
  "widgets": {
   "application/vnd.jupyter.widget-state+json": {
    "state": {
     "05fa92352f3f455f854d2d553ca83029": {
      "model_module": "@jupyter-widgets/base",
      "model_module_version": "1.2.0",
      "model_name": "LayoutModel",
      "state": {
       "_model_module": "@jupyter-widgets/base",
       "_model_module_version": "1.2.0",
       "_model_name": "LayoutModel",
       "_view_count": null,
       "_view_module": "@jupyter-widgets/base",
       "_view_module_version": "1.2.0",
       "_view_name": "LayoutView",
       "align_content": null,
       "align_items": null,
       "align_self": null,
       "border": null,
       "bottom": null,
       "display": null,
       "flex": null,
       "flex_flow": null,
       "grid_area": null,
       "grid_auto_columns": null,
       "grid_auto_flow": null,
       "grid_auto_rows": null,
       "grid_column": null,
       "grid_gap": null,
       "grid_row": null,
       "grid_template_areas": null,
       "grid_template_columns": null,
       "grid_template_rows": null,
       "height": null,
       "justify_content": null,
       "justify_items": null,
       "left": null,
       "margin": null,
       "max_height": null,
       "max_width": null,
       "min_height": null,
       "min_width": null,
       "object_fit": null,
       "object_position": null,
       "order": null,
       "overflow": null,
       "overflow_x": null,
       "overflow_y": null,
       "padding": null,
       "right": null,
       "top": null,
       "visibility": null,
       "width": null
      }
     },
     "074f2d779d524264a2c088ff83cc3a93": {
      "model_module": "@jupyter-widgets/base",
      "model_module_version": "1.2.0",
      "model_name": "LayoutModel",
      "state": {
       "_model_module": "@jupyter-widgets/base",
       "_model_module_version": "1.2.0",
       "_model_name": "LayoutModel",
       "_view_count": null,
       "_view_module": "@jupyter-widgets/base",
       "_view_module_version": "1.2.0",
       "_view_name": "LayoutView",
       "align_content": null,
       "align_items": null,
       "align_self": null,
       "border": null,
       "bottom": null,
       "display": null,
       "flex": null,
       "flex_flow": null,
       "grid_area": null,
       "grid_auto_columns": null,
       "grid_auto_flow": null,
       "grid_auto_rows": null,
       "grid_column": null,
       "grid_gap": null,
       "grid_row": null,
       "grid_template_areas": null,
       "grid_template_columns": null,
       "grid_template_rows": null,
       "height": null,
       "justify_content": null,
       "justify_items": null,
       "left": null,
       "margin": null,
       "max_height": null,
       "max_width": null,
       "min_height": null,
       "min_width": null,
       "object_fit": null,
       "object_position": null,
       "order": null,
       "overflow": null,
       "overflow_x": null,
       "overflow_y": null,
       "padding": null,
       "right": null,
       "top": null,
       "visibility": null,
       "width": null
      }
     },
     "0ad8941bcacd4eb689e36fb8530941d8": {
      "model_module": "@jupyter-widgets/base",
      "model_module_version": "1.2.0",
      "model_name": "LayoutModel",
      "state": {
       "_model_module": "@jupyter-widgets/base",
       "_model_module_version": "1.2.0",
       "_model_name": "LayoutModel",
       "_view_count": null,
       "_view_module": "@jupyter-widgets/base",
       "_view_module_version": "1.2.0",
       "_view_name": "LayoutView",
       "align_content": null,
       "align_items": null,
       "align_self": null,
       "border": null,
       "bottom": null,
       "display": null,
       "flex": null,
       "flex_flow": null,
       "grid_area": null,
       "grid_auto_columns": null,
       "grid_auto_flow": null,
       "grid_auto_rows": null,
       "grid_column": null,
       "grid_gap": null,
       "grid_row": null,
       "grid_template_areas": null,
       "grid_template_columns": null,
       "grid_template_rows": null,
       "height": null,
       "justify_content": null,
       "justify_items": null,
       "left": null,
       "margin": null,
       "max_height": null,
       "max_width": null,
       "min_height": null,
       "min_width": null,
       "object_fit": null,
       "object_position": null,
       "order": null,
       "overflow": null,
       "overflow_x": null,
       "overflow_y": null,
       "padding": null,
       "right": null,
       "top": null,
       "visibility": null,
       "width": null
      }
     },
     "0d8cc305218e4dcbaf8a5dfc7abead7f": {
      "model_module": "@jupyter-widgets/controls",
      "model_module_version": "1.5.0",
      "model_name": "DescriptionStyleModel",
      "state": {
       "_model_module": "@jupyter-widgets/controls",
       "_model_module_version": "1.5.0",
       "_model_name": "DescriptionStyleModel",
       "_view_count": null,
       "_view_module": "@jupyter-widgets/base",
       "_view_module_version": "1.2.0",
       "_view_name": "StyleView",
       "description_width": ""
      }
     },
     "12f96b6159cb4779bcf5da8ad10b19ca": {
      "model_module": "@jupyter-widgets/controls",
      "model_module_version": "1.5.0",
      "model_name": "DescriptionStyleModel",
      "state": {
       "_model_module": "@jupyter-widgets/controls",
       "_model_module_version": "1.5.0",
       "_model_name": "DescriptionStyleModel",
       "_view_count": null,
       "_view_module": "@jupyter-widgets/base",
       "_view_module_version": "1.2.0",
       "_view_name": "StyleView",
       "description_width": ""
      }
     },
     "1d6e26f7c8e047a1a31b25e4cd5924e3": {
      "model_module": "@jupyter-widgets/controls",
      "model_module_version": "1.5.0",
      "model_name": "ProgressStyleModel",
      "state": {
       "_model_module": "@jupyter-widgets/controls",
       "_model_module_version": "1.5.0",
       "_model_name": "ProgressStyleModel",
       "_view_count": null,
       "_view_module": "@jupyter-widgets/base",
       "_view_module_version": "1.2.0",
       "_view_name": "StyleView",
       "bar_color": null,
       "description_width": ""
      }
     },
     "1ebaee259f6040c8a383077d43624f32": {
      "model_module": "@jupyter-widgets/base",
      "model_module_version": "1.2.0",
      "model_name": "LayoutModel",
      "state": {
       "_model_module": "@jupyter-widgets/base",
       "_model_module_version": "1.2.0",
       "_model_name": "LayoutModel",
       "_view_count": null,
       "_view_module": "@jupyter-widgets/base",
       "_view_module_version": "1.2.0",
       "_view_name": "LayoutView",
       "align_content": null,
       "align_items": null,
       "align_self": null,
       "border": null,
       "bottom": null,
       "display": null,
       "flex": null,
       "flex_flow": null,
       "grid_area": null,
       "grid_auto_columns": null,
       "grid_auto_flow": null,
       "grid_auto_rows": null,
       "grid_column": null,
       "grid_gap": null,
       "grid_row": null,
       "grid_template_areas": null,
       "grid_template_columns": null,
       "grid_template_rows": null,
       "height": null,
       "justify_content": null,
       "justify_items": null,
       "left": null,
       "margin": null,
       "max_height": null,
       "max_width": null,
       "min_height": null,
       "min_width": null,
       "object_fit": null,
       "object_position": null,
       "order": null,
       "overflow": null,
       "overflow_x": null,
       "overflow_y": null,
       "padding": null,
       "right": null,
       "top": null,
       "visibility": null,
       "width": null
      }
     },
     "2a19bdd2791341f0b084064184a324b2": {
      "model_module": "@jupyter-widgets/base",
      "model_module_version": "1.2.0",
      "model_name": "LayoutModel",
      "state": {
       "_model_module": "@jupyter-widgets/base",
       "_model_module_version": "1.2.0",
       "_model_name": "LayoutModel",
       "_view_count": null,
       "_view_module": "@jupyter-widgets/base",
       "_view_module_version": "1.2.0",
       "_view_name": "LayoutView",
       "align_content": null,
       "align_items": null,
       "align_self": null,
       "border": null,
       "bottom": null,
       "display": null,
       "flex": null,
       "flex_flow": null,
       "grid_area": null,
       "grid_auto_columns": null,
       "grid_auto_flow": null,
       "grid_auto_rows": null,
       "grid_column": null,
       "grid_gap": null,
       "grid_row": null,
       "grid_template_areas": null,
       "grid_template_columns": null,
       "grid_template_rows": null,
       "height": null,
       "justify_content": null,
       "justify_items": null,
       "left": null,
       "margin": null,
       "max_height": null,
       "max_width": null,
       "min_height": null,
       "min_width": null,
       "object_fit": null,
       "object_position": null,
       "order": null,
       "overflow": null,
       "overflow_x": null,
       "overflow_y": null,
       "padding": null,
       "right": null,
       "top": null,
       "visibility": null,
       "width": null
      }
     },
     "31562272c6be4a55921053ea8139ea73": {
      "model_module": "@jupyter-widgets/controls",
      "model_module_version": "1.5.0",
      "model_name": "HBoxModel",
      "state": {
       "_dom_classes": [],
       "_model_module": "@jupyter-widgets/controls",
       "_model_module_version": "1.5.0",
       "_model_name": "HBoxModel",
       "_view_count": null,
       "_view_module": "@jupyter-widgets/controls",
       "_view_module_version": "1.5.0",
       "_view_name": "HBoxView",
       "box_style": "",
       "children": [
        "IPY_MODEL_d1ff04071dd2451ab99b0380e34b09b1",
        "IPY_MODEL_96ef70e3228040fda4ca97345abf1c41",
        "IPY_MODEL_4bf78cde042e4da88ce2d8b845c983ed"
       ],
       "layout": "IPY_MODEL_343cca9c8b814352b5be85e22601d752"
      }
     },
     "3168162714834d7e80a1dff40238fae9": {
      "model_module": "@jupyter-widgets/controls",
      "model_module_version": "1.5.0",
      "model_name": "ProgressStyleModel",
      "state": {
       "_model_module": "@jupyter-widgets/controls",
       "_model_module_version": "1.5.0",
       "_model_name": "ProgressStyleModel",
       "_view_count": null,
       "_view_module": "@jupyter-widgets/base",
       "_view_module_version": "1.2.0",
       "_view_name": "StyleView",
       "bar_color": null,
       "description_width": ""
      }
     },
     "343cca9c8b814352b5be85e22601d752": {
      "model_module": "@jupyter-widgets/base",
      "model_module_version": "1.2.0",
      "model_name": "LayoutModel",
      "state": {
       "_model_module": "@jupyter-widgets/base",
       "_model_module_version": "1.2.0",
       "_model_name": "LayoutModel",
       "_view_count": null,
       "_view_module": "@jupyter-widgets/base",
       "_view_module_version": "1.2.0",
       "_view_name": "LayoutView",
       "align_content": null,
       "align_items": null,
       "align_self": null,
       "border": null,
       "bottom": null,
       "display": null,
       "flex": null,
       "flex_flow": null,
       "grid_area": null,
       "grid_auto_columns": null,
       "grid_auto_flow": null,
       "grid_auto_rows": null,
       "grid_column": null,
       "grid_gap": null,
       "grid_row": null,
       "grid_template_areas": null,
       "grid_template_columns": null,
       "grid_template_rows": null,
       "height": null,
       "justify_content": null,
       "justify_items": null,
       "left": null,
       "margin": null,
       "max_height": null,
       "max_width": null,
       "min_height": null,
       "min_width": null,
       "object_fit": null,
       "object_position": null,
       "order": null,
       "overflow": null,
       "overflow_x": null,
       "overflow_y": null,
       "padding": null,
       "right": null,
       "top": null,
       "visibility": null,
       "width": null
      }
     },
     "37af7e0121b34753b1cd5cd9b4452ee2": {
      "model_module": "@jupyter-widgets/controls",
      "model_module_version": "1.5.0",
      "model_name": "HTMLModel",
      "state": {
       "_dom_classes": [],
       "_model_module": "@jupyter-widgets/controls",
       "_model_module_version": "1.5.0",
       "_model_name": "HTMLModel",
       "_view_count": null,
       "_view_module": "@jupyter-widgets/controls",
       "_view_module_version": "1.5.0",
       "_view_name": "HTMLView",
       "description": "",
       "description_tooltip": null,
       "layout": "IPY_MODEL_f2699f7da5254c5e9c73a65bfd3896ad",
       "placeholder": "​",
       "style": "IPY_MODEL_e455ec352c124ca295980dd08660aaee",
       "value": "tokenizer.json: 100%"
      }
     },
     "39e63f7c43374e9aa38c1b852324a007": {
      "model_module": "@jupyter-widgets/controls",
      "model_module_version": "1.5.0",
      "model_name": "HTMLModel",
      "state": {
       "_dom_classes": [],
       "_model_module": "@jupyter-widgets/controls",
       "_model_module_version": "1.5.0",
       "_model_name": "HTMLModel",
       "_view_count": null,
       "_view_module": "@jupyter-widgets/controls",
       "_view_module_version": "1.5.0",
       "_view_name": "HTMLView",
       "description": "",
       "description_tooltip": null,
       "layout": "IPY_MODEL_95ad5f1f387246c29ecf8cfd5c400568",
       "placeholder": "​",
       "style": "IPY_MODEL_0d8cc305218e4dcbaf8a5dfc7abead7f",
       "value": "config.json: 100%"
      }
     },
     "404eafd13fb64fa5a0adfc52958f2b35": {
      "model_module": "@jupyter-widgets/controls",
      "model_module_version": "1.5.0",
      "model_name": "HTMLModel",
      "state": {
       "_dom_classes": [],
       "_model_module": "@jupyter-widgets/controls",
       "_model_module_version": "1.5.0",
       "_model_name": "HTMLModel",
       "_view_count": null,
       "_view_module": "@jupyter-widgets/controls",
       "_view_module_version": "1.5.0",
       "_view_name": "HTMLView",
       "description": "",
       "description_tooltip": null,
       "layout": "IPY_MODEL_0ad8941bcacd4eb689e36fb8530941d8",
       "placeholder": "​",
       "style": "IPY_MODEL_9cb65cd049f14167bd5264b9f1f58bc9",
       "value": " 213k/213k [00:00&lt;00:00, 5.39MB/s]"
      }
     },
     "4bf78cde042e4da88ce2d8b845c983ed": {
      "model_module": "@jupyter-widgets/controls",
      "model_module_version": "1.5.0",
      "model_name": "HTMLModel",
      "state": {
       "_dom_classes": [],
       "_model_module": "@jupyter-widgets/controls",
       "_model_module_version": "1.5.0",
       "_model_name": "HTMLModel",
       "_view_count": null,
       "_view_module": "@jupyter-widgets/controls",
       "_view_module_version": "1.5.0",
       "_view_name": "HTMLView",
       "description": "",
       "description_tooltip": null,
       "layout": "IPY_MODEL_ade47d2a4d684b319650340c374d72df",
       "placeholder": "​",
       "style": "IPY_MODEL_77c0111c835f4434ab04d8af7393a998",
       "value": " 49.0/49.0 [00:00&lt;00:00, 3.77kB/s]"
      }
     },
     "4c0e69ab84d64be6be79d8184cf803a3": {
      "model_module": "@jupyter-widgets/base",
      "model_module_version": "1.2.0",
      "model_name": "LayoutModel",
      "state": {
       "_model_module": "@jupyter-widgets/base",
       "_model_module_version": "1.2.0",
       "_model_name": "LayoutModel",
       "_view_count": null,
       "_view_module": "@jupyter-widgets/base",
       "_view_module_version": "1.2.0",
       "_view_name": "LayoutView",
       "align_content": null,
       "align_items": null,
       "align_self": null,
       "border": null,
       "bottom": null,
       "display": null,
       "flex": null,
       "flex_flow": null,
       "grid_area": null,
       "grid_auto_columns": null,
       "grid_auto_flow": null,
       "grid_auto_rows": null,
       "grid_column": null,
       "grid_gap": null,
       "grid_row": null,
       "grid_template_areas": null,
       "grid_template_columns": null,
       "grid_template_rows": null,
       "height": null,
       "justify_content": null,
       "justify_items": null,
       "left": null,
       "margin": null,
       "max_height": null,
       "max_width": null,
       "min_height": null,
       "min_width": null,
       "object_fit": null,
       "object_position": null,
       "order": null,
       "overflow": null,
       "overflow_x": null,
       "overflow_y": null,
       "padding": null,
       "right": null,
       "top": null,
       "visibility": null,
       "width": null
      }
     },
     "50168230ccb44c69a594683ed5a95c02": {
      "model_module": "@jupyter-widgets/controls",
      "model_module_version": "1.5.0",
      "model_name": "HBoxModel",
      "state": {
       "_dom_classes": [],
       "_model_module": "@jupyter-widgets/controls",
       "_model_module_version": "1.5.0",
       "_model_name": "HBoxModel",
       "_view_count": null,
       "_view_module": "@jupyter-widgets/controls",
       "_view_module_version": "1.5.0",
       "_view_name": "HBoxView",
       "box_style": "",
       "children": [
        "IPY_MODEL_c293fdd5a74e4d47a4e7f8087216e5c1",
        "IPY_MODEL_6028d060905f4f23a1d8eb3815a6cf5b",
        "IPY_MODEL_ff5626f7e3aa49ef92f057c7db72d2ad"
       ],
       "layout": "IPY_MODEL_bfe03864fc1c48d389d71451497338cb"
      }
     },
     "6028d060905f4f23a1d8eb3815a6cf5b": {
      "model_module": "@jupyter-widgets/controls",
      "model_module_version": "1.5.0",
      "model_name": "FloatProgressModel",
      "state": {
       "_dom_classes": [],
       "_model_module": "@jupyter-widgets/controls",
       "_model_module_version": "1.5.0",
       "_model_name": "FloatProgressModel",
       "_view_count": null,
       "_view_module": "@jupyter-widgets/controls",
       "_view_module_version": "1.5.0",
       "_view_name": "ProgressView",
       "bar_style": "success",
       "description": "",
       "description_tooltip": null,
       "layout": "IPY_MODEL_1ebaee259f6040c8a383077d43624f32",
       "max": 435755784.0,
       "min": 0.0,
       "orientation": "horizontal",
       "style": "IPY_MODEL_1d6e26f7c8e047a1a31b25e4cd5924e3",
       "value": 435755784.0
      }
     },
     "65bd46fe60144721a4f148be10b1b817": {
      "model_module": "@jupyter-widgets/controls",
      "model_module_version": "1.5.0",
      "model_name": "DescriptionStyleModel",
      "state": {
       "_model_module": "@jupyter-widgets/controls",
       "_model_module_version": "1.5.0",
       "_model_name": "DescriptionStyleModel",
       "_view_count": null,
       "_view_module": "@jupyter-widgets/base",
       "_view_module_version": "1.2.0",
       "_view_name": "StyleView",
       "description_width": ""
      }
     },
     "6a8df57076484dd1a93c5d168f17d3af": {
      "model_module": "@jupyter-widgets/controls",
      "model_module_version": "1.5.0",
      "model_name": "FloatProgressModel",
      "state": {
       "_dom_classes": [],
       "_model_module": "@jupyter-widgets/controls",
       "_model_module_version": "1.5.0",
       "_model_name": "FloatProgressModel",
       "_view_count": null,
       "_view_module": "@jupyter-widgets/controls",
       "_view_module_version": "1.5.0",
       "_view_name": "ProgressView",
       "bar_style": "success",
       "description": "",
       "description_tooltip": null,
       "layout": "IPY_MODEL_943a5ea71f2b4998b696bb9805bfa35b",
       "max": 435797.0,
       "min": 0.0,
       "orientation": "horizontal",
       "style": "IPY_MODEL_eac4957a83e042729e00e16156d0bbeb",
       "value": 435797.0
      }
     },
     "754adbd8eb6348a599d6a3ba1b19b795": {
      "model_module": "@jupyter-widgets/controls",
      "model_module_version": "1.5.0",
      "model_name": "ProgressStyleModel",
      "state": {
       "_model_module": "@jupyter-widgets/controls",
       "_model_module_version": "1.5.0",
       "_model_name": "ProgressStyleModel",
       "_view_count": null,
       "_view_module": "@jupyter-widgets/base",
       "_view_module_version": "1.2.0",
       "_view_name": "StyleView",
       "bar_color": null,
       "description_width": ""
      }
     },
     "77c0111c835f4434ab04d8af7393a998": {
      "model_module": "@jupyter-widgets/controls",
      "model_module_version": "1.5.0",
      "model_name": "DescriptionStyleModel",
      "state": {
       "_model_module": "@jupyter-widgets/controls",
       "_model_module_version": "1.5.0",
       "_model_name": "DescriptionStyleModel",
       "_view_count": null,
       "_view_module": "@jupyter-widgets/base",
       "_view_module_version": "1.2.0",
       "_view_name": "StyleView",
       "description_width": ""
      }
     },
     "7d4e3673007445c487ae755d9301077d": {
      "model_module": "@jupyter-widgets/controls",
      "model_module_version": "1.5.0",
      "model_name": "HTMLModel",
      "state": {
       "_dom_classes": [],
       "_model_module": "@jupyter-widgets/controls",
       "_model_module_version": "1.5.0",
       "_model_name": "HTMLModel",
       "_view_count": null,
       "_view_module": "@jupyter-widgets/controls",
       "_view_module_version": "1.5.0",
       "_view_name": "HTMLView",
       "description": "",
       "description_tooltip": null,
       "layout": "IPY_MODEL_a2b4703fec1f476d8dc9ec4a82f4fe2c",
       "placeholder": "​",
       "style": "IPY_MODEL_941824b43fe241598eb0ecab9db680e5",
       "value": "vocab.txt: 100%"
      }
     },
     "8c4ebbe6034849d9a06985d9a444928c": {
      "model_module": "@jupyter-widgets/controls",
      "model_module_version": "1.5.0",
      "model_name": "HTMLModel",
      "state": {
       "_dom_classes": [],
       "_model_module": "@jupyter-widgets/controls",
       "_model_module_version": "1.5.0",
       "_model_name": "HTMLModel",
       "_view_count": null,
       "_view_module": "@jupyter-widgets/controls",
       "_view_module_version": "1.5.0",
       "_view_name": "HTMLView",
       "description": "",
       "description_tooltip": null,
       "layout": "IPY_MODEL_05fa92352f3f455f854d2d553ca83029",
       "placeholder": "​",
       "style": "IPY_MODEL_971481d2b7d242aaa91cb92ae4cf730d",
       "value": " 436k/436k [00:00&lt;00:00, 21.5MB/s]"
      }
     },
     "8d1a6eb4ce4b4ce186cdd2b8213620c3": {
      "model_module": "@jupyter-widgets/controls",
      "model_module_version": "1.5.0",
      "model_name": "FloatProgressModel",
      "state": {
       "_dom_classes": [],
       "_model_module": "@jupyter-widgets/controls",
       "_model_module_version": "1.5.0",
       "_model_name": "FloatProgressModel",
       "_view_count": null,
       "_view_module": "@jupyter-widgets/controls",
       "_view_module_version": "1.5.0",
       "_view_name": "ProgressView",
       "bar_style": "success",
       "description": "",
       "description_tooltip": null,
       "layout": "IPY_MODEL_4c0e69ab84d64be6be79d8184cf803a3",
       "max": 570.0,
       "min": 0.0,
       "orientation": "horizontal",
       "style": "IPY_MODEL_3168162714834d7e80a1dff40238fae9",
       "value": 570.0
      }
     },
     "91bc3e160dea422d957ffcb7edd5cd5d": {
      "model_module": "@jupyter-widgets/base",
      "model_module_version": "1.2.0",
      "model_name": "LayoutModel",
      "state": {
       "_model_module": "@jupyter-widgets/base",
       "_model_module_version": "1.2.0",
       "_model_name": "LayoutModel",
       "_view_count": null,
       "_view_module": "@jupyter-widgets/base",
       "_view_module_version": "1.2.0",
       "_view_name": "LayoutView",
       "align_content": null,
       "align_items": null,
       "align_self": null,
       "border": null,
       "bottom": null,
       "display": null,
       "flex": null,
       "flex_flow": null,
       "grid_area": null,
       "grid_auto_columns": null,
       "grid_auto_flow": null,
       "grid_auto_rows": null,
       "grid_column": null,
       "grid_gap": null,
       "grid_row": null,
       "grid_template_areas": null,
       "grid_template_columns": null,
       "grid_template_rows": null,
       "height": null,
       "justify_content": null,
       "justify_items": null,
       "left": null,
       "margin": null,
       "max_height": null,
       "max_width": null,
       "min_height": null,
       "min_width": null,
       "object_fit": null,
       "object_position": null,
       "order": null,
       "overflow": null,
       "overflow_x": null,
       "overflow_y": null,
       "padding": null,
       "right": null,
       "top": null,
       "visibility": null,
       "width": null
      }
     },
     "941824b43fe241598eb0ecab9db680e5": {
      "model_module": "@jupyter-widgets/controls",
      "model_module_version": "1.5.0",
      "model_name": "DescriptionStyleModel",
      "state": {
       "_model_module": "@jupyter-widgets/controls",
       "_model_module_version": "1.5.0",
       "_model_name": "DescriptionStyleModel",
       "_view_count": null,
       "_view_module": "@jupyter-widgets/base",
       "_view_module_version": "1.2.0",
       "_view_name": "StyleView",
       "description_width": ""
      }
     },
     "943a5ea71f2b4998b696bb9805bfa35b": {
      "model_module": "@jupyter-widgets/base",
      "model_module_version": "1.2.0",
      "model_name": "LayoutModel",
      "state": {
       "_model_module": "@jupyter-widgets/base",
       "_model_module_version": "1.2.0",
       "_model_name": "LayoutModel",
       "_view_count": null,
       "_view_module": "@jupyter-widgets/base",
       "_view_module_version": "1.2.0",
       "_view_name": "LayoutView",
       "align_content": null,
       "align_items": null,
       "align_self": null,
       "border": null,
       "bottom": null,
       "display": null,
       "flex": null,
       "flex_flow": null,
       "grid_area": null,
       "grid_auto_columns": null,
       "grid_auto_flow": null,
       "grid_auto_rows": null,
       "grid_column": null,
       "grid_gap": null,
       "grid_row": null,
       "grid_template_areas": null,
       "grid_template_columns": null,
       "grid_template_rows": null,
       "height": null,
       "justify_content": null,
       "justify_items": null,
       "left": null,
       "margin": null,
       "max_height": null,
       "max_width": null,
       "min_height": null,
       "min_width": null,
       "object_fit": null,
       "object_position": null,
       "order": null,
       "overflow": null,
       "overflow_x": null,
       "overflow_y": null,
       "padding": null,
       "right": null,
       "top": null,
       "visibility": null,
       "width": null
      }
     },
     "9533d8e4decb43aaa96078e9968d3f94": {
      "model_module": "@jupyter-widgets/controls",
      "model_module_version": "1.5.0",
      "model_name": "HBoxModel",
      "state": {
       "_dom_classes": [],
       "_model_module": "@jupyter-widgets/controls",
       "_model_module_version": "1.5.0",
       "_model_name": "HBoxModel",
       "_view_count": null,
       "_view_module": "@jupyter-widgets/controls",
       "_view_module_version": "1.5.0",
       "_view_name": "HBoxView",
       "box_style": "",
       "children": [
        "IPY_MODEL_39e63f7c43374e9aa38c1b852324a007",
        "IPY_MODEL_8d1a6eb4ce4b4ce186cdd2b8213620c3",
        "IPY_MODEL_b9a57c34769b4bf09bc0bbfef53ae259"
       ],
       "layout": "IPY_MODEL_91bc3e160dea422d957ffcb7edd5cd5d"
      }
     },
     "95ad5f1f387246c29ecf8cfd5c400568": {
      "model_module": "@jupyter-widgets/base",
      "model_module_version": "1.2.0",
      "model_name": "LayoutModel",
      "state": {
       "_model_module": "@jupyter-widgets/base",
       "_model_module_version": "1.2.0",
       "_model_name": "LayoutModel",
       "_view_count": null,
       "_view_module": "@jupyter-widgets/base",
       "_view_module_version": "1.2.0",
       "_view_name": "LayoutView",
       "align_content": null,
       "align_items": null,
       "align_self": null,
       "border": null,
       "bottom": null,
       "display": null,
       "flex": null,
       "flex_flow": null,
       "grid_area": null,
       "grid_auto_columns": null,
       "grid_auto_flow": null,
       "grid_auto_rows": null,
       "grid_column": null,
       "grid_gap": null,
       "grid_row": null,
       "grid_template_areas": null,
       "grid_template_columns": null,
       "grid_template_rows": null,
       "height": null,
       "justify_content": null,
       "justify_items": null,
       "left": null,
       "margin": null,
       "max_height": null,
       "max_width": null,
       "min_height": null,
       "min_width": null,
       "object_fit": null,
       "object_position": null,
       "order": null,
       "overflow": null,
       "overflow_x": null,
       "overflow_y": null,
       "padding": null,
       "right": null,
       "top": null,
       "visibility": null,
       "width": null
      }
     },
     "96ef70e3228040fda4ca97345abf1c41": {
      "model_module": "@jupyter-widgets/controls",
      "model_module_version": "1.5.0",
      "model_name": "FloatProgressModel",
      "state": {
       "_dom_classes": [],
       "_model_module": "@jupyter-widgets/controls",
       "_model_module_version": "1.5.0",
       "_model_name": "FloatProgressModel",
       "_view_count": null,
       "_view_module": "@jupyter-widgets/controls",
       "_view_module_version": "1.5.0",
       "_view_name": "ProgressView",
       "bar_style": "success",
       "description": "",
       "description_tooltip": null,
       "layout": "IPY_MODEL_f754d0529e73475eb79de7f2690844f9",
       "max": 49.0,
       "min": 0.0,
       "orientation": "horizontal",
       "style": "IPY_MODEL_754adbd8eb6348a599d6a3ba1b19b795",
       "value": 49.0
      }
     },
     "971481d2b7d242aaa91cb92ae4cf730d": {
      "model_module": "@jupyter-widgets/controls",
      "model_module_version": "1.5.0",
      "model_name": "DescriptionStyleModel",
      "state": {
       "_model_module": "@jupyter-widgets/controls",
       "_model_module_version": "1.5.0",
       "_model_name": "DescriptionStyleModel",
       "_view_count": null,
       "_view_module": "@jupyter-widgets/base",
       "_view_module_version": "1.2.0",
       "_view_name": "StyleView",
       "description_width": ""
      }
     },
     "9cb65cd049f14167bd5264b9f1f58bc9": {
      "model_module": "@jupyter-widgets/controls",
      "model_module_version": "1.5.0",
      "model_name": "DescriptionStyleModel",
      "state": {
       "_model_module": "@jupyter-widgets/controls",
       "_model_module_version": "1.5.0",
       "_model_name": "DescriptionStyleModel",
       "_view_count": null,
       "_view_module": "@jupyter-widgets/base",
       "_view_module_version": "1.2.0",
       "_view_name": "StyleView",
       "description_width": ""
      }
     },
     "a2b4703fec1f476d8dc9ec4a82f4fe2c": {
      "model_module": "@jupyter-widgets/base",
      "model_module_version": "1.2.0",
      "model_name": "LayoutModel",
      "state": {
       "_model_module": "@jupyter-widgets/base",
       "_model_module_version": "1.2.0",
       "_model_name": "LayoutModel",
       "_view_count": null,
       "_view_module": "@jupyter-widgets/base",
       "_view_module_version": "1.2.0",
       "_view_name": "LayoutView",
       "align_content": null,
       "align_items": null,
       "align_self": null,
       "border": null,
       "bottom": null,
       "display": null,
       "flex": null,
       "flex_flow": null,
       "grid_area": null,
       "grid_auto_columns": null,
       "grid_auto_flow": null,
       "grid_auto_rows": null,
       "grid_column": null,
       "grid_gap": null,
       "grid_row": null,
       "grid_template_areas": null,
       "grid_template_columns": null,
       "grid_template_rows": null,
       "height": null,
       "justify_content": null,
       "justify_items": null,
       "left": null,
       "margin": null,
       "max_height": null,
       "max_width": null,
       "min_height": null,
       "min_width": null,
       "object_fit": null,
       "object_position": null,
       "order": null,
       "overflow": null,
       "overflow_x": null,
       "overflow_y": null,
       "padding": null,
       "right": null,
       "top": null,
       "visibility": null,
       "width": null
      }
     },
     "aa600ad8f9e04519bcd81ec673b7055e": {
      "model_module": "@jupyter-widgets/base",
      "model_module_version": "1.2.0",
      "model_name": "LayoutModel",
      "state": {
       "_model_module": "@jupyter-widgets/base",
       "_model_module_version": "1.2.0",
       "_model_name": "LayoutModel",
       "_view_count": null,
       "_view_module": "@jupyter-widgets/base",
       "_view_module_version": "1.2.0",
       "_view_name": "LayoutView",
       "align_content": null,
       "align_items": null,
       "align_self": null,
       "border": null,
       "bottom": null,
       "display": null,
       "flex": null,
       "flex_flow": null,
       "grid_area": null,
       "grid_auto_columns": null,
       "grid_auto_flow": null,
       "grid_auto_rows": null,
       "grid_column": null,
       "grid_gap": null,
       "grid_row": null,
       "grid_template_areas": null,
       "grid_template_columns": null,
       "grid_template_rows": null,
       "height": null,
       "justify_content": null,
       "justify_items": null,
       "left": null,
       "margin": null,
       "max_height": null,
       "max_width": null,
       "min_height": null,
       "min_width": null,
       "object_fit": null,
       "object_position": null,
       "order": null,
       "overflow": null,
       "overflow_x": null,
       "overflow_y": null,
       "padding": null,
       "right": null,
       "top": null,
       "visibility": null,
       "width": null
      }
     },
     "ade47d2a4d684b319650340c374d72df": {
      "model_module": "@jupyter-widgets/base",
      "model_module_version": "1.2.0",
      "model_name": "LayoutModel",
      "state": {
       "_model_module": "@jupyter-widgets/base",
       "_model_module_version": "1.2.0",
       "_model_name": "LayoutModel",
       "_view_count": null,
       "_view_module": "@jupyter-widgets/base",
       "_view_module_version": "1.2.0",
       "_view_name": "LayoutView",
       "align_content": null,
       "align_items": null,
       "align_self": null,
       "border": null,
       "bottom": null,
       "display": null,
       "flex": null,
       "flex_flow": null,
       "grid_area": null,
       "grid_auto_columns": null,
       "grid_auto_flow": null,
       "grid_auto_rows": null,
       "grid_column": null,
       "grid_gap": null,
       "grid_row": null,
       "grid_template_areas": null,
       "grid_template_columns": null,
       "grid_template_rows": null,
       "height": null,
       "justify_content": null,
       "justify_items": null,
       "left": null,
       "margin": null,
       "max_height": null,
       "max_width": null,
       "min_height": null,
       "min_width": null,
       "object_fit": null,
       "object_position": null,
       "order": null,
       "overflow": null,
       "overflow_x": null,
       "overflow_y": null,
       "padding": null,
       "right": null,
       "top": null,
       "visibility": null,
       "width": null
      }
     },
     "b444a1eb4faa450cb5cf37aea5a6f74d": {
      "model_module": "@jupyter-widgets/base",
      "model_module_version": "1.2.0",
      "model_name": "LayoutModel",
      "state": {
       "_model_module": "@jupyter-widgets/base",
       "_model_module_version": "1.2.0",
       "_model_name": "LayoutModel",
       "_view_count": null,
       "_view_module": "@jupyter-widgets/base",
       "_view_module_version": "1.2.0",
       "_view_name": "LayoutView",
       "align_content": null,
       "align_items": null,
       "align_self": null,
       "border": null,
       "bottom": null,
       "display": null,
       "flex": null,
       "flex_flow": null,
       "grid_area": null,
       "grid_auto_columns": null,
       "grid_auto_flow": null,
       "grid_auto_rows": null,
       "grid_column": null,
       "grid_gap": null,
       "grid_row": null,
       "grid_template_areas": null,
       "grid_template_columns": null,
       "grid_template_rows": null,
       "height": null,
       "justify_content": null,
       "justify_items": null,
       "left": null,
       "margin": null,
       "max_height": null,
       "max_width": null,
       "min_height": null,
       "min_width": null,
       "object_fit": null,
       "object_position": null,
       "order": null,
       "overflow": null,
       "overflow_x": null,
       "overflow_y": null,
       "padding": null,
       "right": null,
       "top": null,
       "visibility": null,
       "width": null
      }
     },
     "b53c14687fe04bf19b4a47433c64311b": {
      "model_module": "@jupyter-widgets/controls",
      "model_module_version": "1.5.0",
      "model_name": "HBoxModel",
      "state": {
       "_dom_classes": [],
       "_model_module": "@jupyter-widgets/controls",
       "_model_module_version": "1.5.0",
       "_model_name": "HBoxModel",
       "_view_count": null,
       "_view_module": "@jupyter-widgets/controls",
       "_view_module_version": "1.5.0",
       "_view_name": "HBoxView",
       "box_style": "",
       "children": [
        "IPY_MODEL_37af7e0121b34753b1cd5cd9b4452ee2",
        "IPY_MODEL_6a8df57076484dd1a93c5d168f17d3af",
        "IPY_MODEL_8c4ebbe6034849d9a06985d9a444928c"
       ],
       "layout": "IPY_MODEL_c202dec205db4cfdba7701c50cc745de"
      }
     },
     "b9a57c34769b4bf09bc0bbfef53ae259": {
      "model_module": "@jupyter-widgets/controls",
      "model_module_version": "1.5.0",
      "model_name": "HTMLModel",
      "state": {
       "_dom_classes": [],
       "_model_module": "@jupyter-widgets/controls",
       "_model_module_version": "1.5.0",
       "_model_name": "HTMLModel",
       "_view_count": null,
       "_view_module": "@jupyter-widgets/controls",
       "_view_module_version": "1.5.0",
       "_view_name": "HTMLView",
       "description": "",
       "description_tooltip": null,
       "layout": "IPY_MODEL_bf0c485fb0f74d41904d085d9c980a40",
       "placeholder": "​",
       "style": "IPY_MODEL_12f96b6159cb4779bcf5da8ad10b19ca",
       "value": " 570/570 [00:00&lt;00:00, 48.6kB/s]"
      }
     },
     "bf0c485fb0f74d41904d085d9c980a40": {
      "model_module": "@jupyter-widgets/base",
      "model_module_version": "1.2.0",
      "model_name": "LayoutModel",
      "state": {
       "_model_module": "@jupyter-widgets/base",
       "_model_module_version": "1.2.0",
       "_model_name": "LayoutModel",
       "_view_count": null,
       "_view_module": "@jupyter-widgets/base",
       "_view_module_version": "1.2.0",
       "_view_name": "LayoutView",
       "align_content": null,
       "align_items": null,
       "align_self": null,
       "border": null,
       "bottom": null,
       "display": null,
       "flex": null,
       "flex_flow": null,
       "grid_area": null,
       "grid_auto_columns": null,
       "grid_auto_flow": null,
       "grid_auto_rows": null,
       "grid_column": null,
       "grid_gap": null,
       "grid_row": null,
       "grid_template_areas": null,
       "grid_template_columns": null,
       "grid_template_rows": null,
       "height": null,
       "justify_content": null,
       "justify_items": null,
       "left": null,
       "margin": null,
       "max_height": null,
       "max_width": null,
       "min_height": null,
       "min_width": null,
       "object_fit": null,
       "object_position": null,
       "order": null,
       "overflow": null,
       "overflow_x": null,
       "overflow_y": null,
       "padding": null,
       "right": null,
       "top": null,
       "visibility": null,
       "width": null
      }
     },
     "bfe03864fc1c48d389d71451497338cb": {
      "model_module": "@jupyter-widgets/base",
      "model_module_version": "1.2.0",
      "model_name": "LayoutModel",
      "state": {
       "_model_module": "@jupyter-widgets/base",
       "_model_module_version": "1.2.0",
       "_model_name": "LayoutModel",
       "_view_count": null,
       "_view_module": "@jupyter-widgets/base",
       "_view_module_version": "1.2.0",
       "_view_name": "LayoutView",
       "align_content": null,
       "align_items": null,
       "align_self": null,
       "border": null,
       "bottom": null,
       "display": null,
       "flex": null,
       "flex_flow": null,
       "grid_area": null,
       "grid_auto_columns": null,
       "grid_auto_flow": null,
       "grid_auto_rows": null,
       "grid_column": null,
       "grid_gap": null,
       "grid_row": null,
       "grid_template_areas": null,
       "grid_template_columns": null,
       "grid_template_rows": null,
       "height": null,
       "justify_content": null,
       "justify_items": null,
       "left": null,
       "margin": null,
       "max_height": null,
       "max_width": null,
       "min_height": null,
       "min_width": null,
       "object_fit": null,
       "object_position": null,
       "order": null,
       "overflow": null,
       "overflow_x": null,
       "overflow_y": null,
       "padding": null,
       "right": null,
       "top": null,
       "visibility": null,
       "width": null
      }
     },
     "c202dec205db4cfdba7701c50cc745de": {
      "model_module": "@jupyter-widgets/base",
      "model_module_version": "1.2.0",
      "model_name": "LayoutModel",
      "state": {
       "_model_module": "@jupyter-widgets/base",
       "_model_module_version": "1.2.0",
       "_model_name": "LayoutModel",
       "_view_count": null,
       "_view_module": "@jupyter-widgets/base",
       "_view_module_version": "1.2.0",
       "_view_name": "LayoutView",
       "align_content": null,
       "align_items": null,
       "align_self": null,
       "border": null,
       "bottom": null,
       "display": null,
       "flex": null,
       "flex_flow": null,
       "grid_area": null,
       "grid_auto_columns": null,
       "grid_auto_flow": null,
       "grid_auto_rows": null,
       "grid_column": null,
       "grid_gap": null,
       "grid_row": null,
       "grid_template_areas": null,
       "grid_template_columns": null,
       "grid_template_rows": null,
       "height": null,
       "justify_content": null,
       "justify_items": null,
       "left": null,
       "margin": null,
       "max_height": null,
       "max_width": null,
       "min_height": null,
       "min_width": null,
       "object_fit": null,
       "object_position": null,
       "order": null,
       "overflow": null,
       "overflow_x": null,
       "overflow_y": null,
       "padding": null,
       "right": null,
       "top": null,
       "visibility": null,
       "width": null
      }
     },
     "c293fdd5a74e4d47a4e7f8087216e5c1": {
      "model_module": "@jupyter-widgets/controls",
      "model_module_version": "1.5.0",
      "model_name": "HTMLModel",
      "state": {
       "_dom_classes": [],
       "_model_module": "@jupyter-widgets/controls",
       "_model_module_version": "1.5.0",
       "_model_name": "HTMLModel",
       "_view_count": null,
       "_view_module": "@jupyter-widgets/controls",
       "_view_module_version": "1.5.0",
       "_view_name": "HTMLView",
       "description": "",
       "description_tooltip": null,
       "layout": "IPY_MODEL_f5816394deb0490fbd780c9dc59b8681",
       "placeholder": "​",
       "style": "IPY_MODEL_f28d5ffb66cd4e779731352de79f4f85",
       "value": "model.safetensors: 100%"
      }
     },
     "d1ff04071dd2451ab99b0380e34b09b1": {
      "model_module": "@jupyter-widgets/controls",
      "model_module_version": "1.5.0",
      "model_name": "HTMLModel",
      "state": {
       "_dom_classes": [],
       "_model_module": "@jupyter-widgets/controls",
       "_model_module_version": "1.5.0",
       "_model_name": "HTMLModel",
       "_view_count": null,
       "_view_module": "@jupyter-widgets/controls",
       "_view_module_version": "1.5.0",
       "_view_name": "HTMLView",
       "description": "",
       "description_tooltip": null,
       "layout": "IPY_MODEL_aa600ad8f9e04519bcd81ec673b7055e",
       "placeholder": "​",
       "style": "IPY_MODEL_65bd46fe60144721a4f148be10b1b817",
       "value": "tokenizer_config.json: 100%"
      }
     },
     "e30ea6a27fb34272b9342b2b242cec98": {
      "model_module": "@jupyter-widgets/controls",
      "model_module_version": "1.5.0",
      "model_name": "HBoxModel",
      "state": {
       "_dom_classes": [],
       "_model_module": "@jupyter-widgets/controls",
       "_model_module_version": "1.5.0",
       "_model_name": "HBoxModel",
       "_view_count": null,
       "_view_module": "@jupyter-widgets/controls",
       "_view_module_version": "1.5.0",
       "_view_name": "HBoxView",
       "box_style": "",
       "children": [
        "IPY_MODEL_7d4e3673007445c487ae755d9301077d",
        "IPY_MODEL_eeb981abf4cc4f1f90b62188fe4627a1",
        "IPY_MODEL_404eafd13fb64fa5a0adfc52958f2b35"
       ],
       "layout": "IPY_MODEL_b444a1eb4faa450cb5cf37aea5a6f74d"
      }
     },
     "e455ec352c124ca295980dd08660aaee": {
      "model_module": "@jupyter-widgets/controls",
      "model_module_version": "1.5.0",
      "model_name": "DescriptionStyleModel",
      "state": {
       "_model_module": "@jupyter-widgets/controls",
       "_model_module_version": "1.5.0",
       "_model_name": "DescriptionStyleModel",
       "_view_count": null,
       "_view_module": "@jupyter-widgets/base",
       "_view_module_version": "1.2.0",
       "_view_name": "StyleView",
       "description_width": ""
      }
     },
     "e8b043a494434180beae7690bfadf83f": {
      "model_module": "@jupyter-widgets/controls",
      "model_module_version": "1.5.0",
      "model_name": "ProgressStyleModel",
      "state": {
       "_model_module": "@jupyter-widgets/controls",
       "_model_module_version": "1.5.0",
       "_model_name": "ProgressStyleModel",
       "_view_count": null,
       "_view_module": "@jupyter-widgets/base",
       "_view_module_version": "1.2.0",
       "_view_name": "StyleView",
       "bar_color": null,
       "description_width": ""
      }
     },
     "eac4957a83e042729e00e16156d0bbeb": {
      "model_module": "@jupyter-widgets/controls",
      "model_module_version": "1.5.0",
      "model_name": "ProgressStyleModel",
      "state": {
       "_model_module": "@jupyter-widgets/controls",
       "_model_module_version": "1.5.0",
       "_model_name": "ProgressStyleModel",
       "_view_count": null,
       "_view_module": "@jupyter-widgets/base",
       "_view_module_version": "1.2.0",
       "_view_name": "StyleView",
       "bar_color": null,
       "description_width": ""
      }
     },
     "ec2becf04d7548cdb27b2f5943b221c2": {
      "model_module": "@jupyter-widgets/controls",
      "model_module_version": "1.5.0",
      "model_name": "DescriptionStyleModel",
      "state": {
       "_model_module": "@jupyter-widgets/controls",
       "_model_module_version": "1.5.0",
       "_model_name": "DescriptionStyleModel",
       "_view_count": null,
       "_view_module": "@jupyter-widgets/base",
       "_view_module_version": "1.2.0",
       "_view_name": "StyleView",
       "description_width": ""
      }
     },
     "eeb981abf4cc4f1f90b62188fe4627a1": {
      "model_module": "@jupyter-widgets/controls",
      "model_module_version": "1.5.0",
      "model_name": "FloatProgressModel",
      "state": {
       "_dom_classes": [],
       "_model_module": "@jupyter-widgets/controls",
       "_model_module_version": "1.5.0",
       "_model_name": "FloatProgressModel",
       "_view_count": null,
       "_view_module": "@jupyter-widgets/controls",
       "_view_module_version": "1.5.0",
       "_view_name": "ProgressView",
       "bar_style": "success",
       "description": "",
       "description_tooltip": null,
       "layout": "IPY_MODEL_074f2d779d524264a2c088ff83cc3a93",
       "max": 213450.0,
       "min": 0.0,
       "orientation": "horizontal",
       "style": "IPY_MODEL_e8b043a494434180beae7690bfadf83f",
       "value": 213450.0
      }
     },
     "f2699f7da5254c5e9c73a65bfd3896ad": {
      "model_module": "@jupyter-widgets/base",
      "model_module_version": "1.2.0",
      "model_name": "LayoutModel",
      "state": {
       "_model_module": "@jupyter-widgets/base",
       "_model_module_version": "1.2.0",
       "_model_name": "LayoutModel",
       "_view_count": null,
       "_view_module": "@jupyter-widgets/base",
       "_view_module_version": "1.2.0",
       "_view_name": "LayoutView",
       "align_content": null,
       "align_items": null,
       "align_self": null,
       "border": null,
       "bottom": null,
       "display": null,
       "flex": null,
       "flex_flow": null,
       "grid_area": null,
       "grid_auto_columns": null,
       "grid_auto_flow": null,
       "grid_auto_rows": null,
       "grid_column": null,
       "grid_gap": null,
       "grid_row": null,
       "grid_template_areas": null,
       "grid_template_columns": null,
       "grid_template_rows": null,
       "height": null,
       "justify_content": null,
       "justify_items": null,
       "left": null,
       "margin": null,
       "max_height": null,
       "max_width": null,
       "min_height": null,
       "min_width": null,
       "object_fit": null,
       "object_position": null,
       "order": null,
       "overflow": null,
       "overflow_x": null,
       "overflow_y": null,
       "padding": null,
       "right": null,
       "top": null,
       "visibility": null,
       "width": null
      }
     },
     "f28d5ffb66cd4e779731352de79f4f85": {
      "model_module": "@jupyter-widgets/controls",
      "model_module_version": "1.5.0",
      "model_name": "DescriptionStyleModel",
      "state": {
       "_model_module": "@jupyter-widgets/controls",
       "_model_module_version": "1.5.0",
       "_model_name": "DescriptionStyleModel",
       "_view_count": null,
       "_view_module": "@jupyter-widgets/base",
       "_view_module_version": "1.2.0",
       "_view_name": "StyleView",
       "description_width": ""
      }
     },
     "f5816394deb0490fbd780c9dc59b8681": {
      "model_module": "@jupyter-widgets/base",
      "model_module_version": "1.2.0",
      "model_name": "LayoutModel",
      "state": {
       "_model_module": "@jupyter-widgets/base",
       "_model_module_version": "1.2.0",
       "_model_name": "LayoutModel",
       "_view_count": null,
       "_view_module": "@jupyter-widgets/base",
       "_view_module_version": "1.2.0",
       "_view_name": "LayoutView",
       "align_content": null,
       "align_items": null,
       "align_self": null,
       "border": null,
       "bottom": null,
       "display": null,
       "flex": null,
       "flex_flow": null,
       "grid_area": null,
       "grid_auto_columns": null,
       "grid_auto_flow": null,
       "grid_auto_rows": null,
       "grid_column": null,
       "grid_gap": null,
       "grid_row": null,
       "grid_template_areas": null,
       "grid_template_columns": null,
       "grid_template_rows": null,
       "height": null,
       "justify_content": null,
       "justify_items": null,
       "left": null,
       "margin": null,
       "max_height": null,
       "max_width": null,
       "min_height": null,
       "min_width": null,
       "object_fit": null,
       "object_position": null,
       "order": null,
       "overflow": null,
       "overflow_x": null,
       "overflow_y": null,
       "padding": null,
       "right": null,
       "top": null,
       "visibility": null,
       "width": null
      }
     },
     "f754d0529e73475eb79de7f2690844f9": {
      "model_module": "@jupyter-widgets/base",
      "model_module_version": "1.2.0",
      "model_name": "LayoutModel",
      "state": {
       "_model_module": "@jupyter-widgets/base",
       "_model_module_version": "1.2.0",
       "_model_name": "LayoutModel",
       "_view_count": null,
       "_view_module": "@jupyter-widgets/base",
       "_view_module_version": "1.2.0",
       "_view_name": "LayoutView",
       "align_content": null,
       "align_items": null,
       "align_self": null,
       "border": null,
       "bottom": null,
       "display": null,
       "flex": null,
       "flex_flow": null,
       "grid_area": null,
       "grid_auto_columns": null,
       "grid_auto_flow": null,
       "grid_auto_rows": null,
       "grid_column": null,
       "grid_gap": null,
       "grid_row": null,
       "grid_template_areas": null,
       "grid_template_columns": null,
       "grid_template_rows": null,
       "height": null,
       "justify_content": null,
       "justify_items": null,
       "left": null,
       "margin": null,
       "max_height": null,
       "max_width": null,
       "min_height": null,
       "min_width": null,
       "object_fit": null,
       "object_position": null,
       "order": null,
       "overflow": null,
       "overflow_x": null,
       "overflow_y": null,
       "padding": null,
       "right": null,
       "top": null,
       "visibility": null,
       "width": null
      }
     },
     "ff5626f7e3aa49ef92f057c7db72d2ad": {
      "model_module": "@jupyter-widgets/controls",
      "model_module_version": "1.5.0",
      "model_name": "HTMLModel",
      "state": {
       "_dom_classes": [],
       "_model_module": "@jupyter-widgets/controls",
       "_model_module_version": "1.5.0",
       "_model_name": "HTMLModel",
       "_view_count": null,
       "_view_module": "@jupyter-widgets/controls",
       "_view_module_version": "1.5.0",
       "_view_name": "HTMLView",
       "description": "",
       "description_tooltip": null,
       "layout": "IPY_MODEL_2a19bdd2791341f0b084064184a324b2",
       "placeholder": "​",
       "style": "IPY_MODEL_ec2becf04d7548cdb27b2f5943b221c2",
       "value": " 436M/436M [00:01&lt;00:00, 229MB/s]"
      }
     }
    },
    "version_major": 2,
    "version_minor": 0
   }
  }
 },
 "nbformat": 4,
 "nbformat_minor": 5
}
